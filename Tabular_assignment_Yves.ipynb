{
  "nbformat": 4,
  "nbformat_minor": 0,
  "metadata": {
    "colab": {
      "name": "Tabular assignment - Yves.ipynb",
      "provenance": [],
      "collapsed_sections": [],
      "authorship_tag": "ABX9TyONEWlYJoyNXI+6VgC9dM0r",
      "include_colab_link": true
    },
    "kernelspec": {
      "name": "python3",
      "display_name": "Python 3"
    }
  },
  "cells": [
    {
      "cell_type": "markdown",
      "metadata": {
        "id": "view-in-github",
        "colab_type": "text"
      },
      "source": [
        "<a href=\"https://colab.research.google.com/github/yvesgit/UnpackAI/blob/main/Tabular_assignment_Yves.ipynb\" target=\"_parent\"><img src=\"https://colab.research.google.com/assets/colab-badge.svg\" alt=\"Open In Colab\"/></a>"
      ]
    },
    {
      "cell_type": "code",
      "metadata": {
        "colab": {
          "base_uri": "https://localhost:8080/"
        },
        "id": "0AQn-oKG8v-F",
        "outputId": "456e9801-9112-41bc-8568-face578460cb"
      },
      "source": [
        "#hide\n",
        "!pip install -Uqq fastbook kaggle waterfallcharts treeinterpreter dtreeviz\n",
        "import fastbook\n",
        "fastbook.setup_book()"
      ],
      "execution_count": null,
      "outputs": [
        {
          "output_type": "stream",
          "text": [
            "\u001b[K     |████████████████████████████████| 727kB 9.3MB/s \n",
            "\u001b[K     |████████████████████████████████| 51kB 5.3MB/s \n",
            "\u001b[K     |████████████████████████████████| 194kB 19.1MB/s \n",
            "\u001b[K     |████████████████████████████████| 1.2MB 24.3MB/s \n",
            "\u001b[K     |████████████████████████████████| 51kB 5.1MB/s \n",
            "\u001b[K     |████████████████████████████████| 204.2MB 71kB/s \n",
            "\u001b[K     |████████████████████████████████| 61kB 6.8MB/s \n",
            "\u001b[K     |████████████████████████████████| 204kB 57.9MB/s \n",
            "\u001b[?25h  Building wheel for waterfallcharts (setup.py) ... \u001b[?25l\u001b[?25hdone\n",
            "  Building wheel for dtreeviz (setup.py) ... \u001b[?25l\u001b[?25hdone\n",
            "  Building wheel for pyspark (setup.py) ... \u001b[?25l\u001b[?25hdone\n",
            "Mounted at /content/gdrive\n"
          ],
          "name": "stdout"
        }
      ]
    },
    {
      "cell_type": "code",
      "metadata": {
        "id": "W4ZqlE9X83ep"
      },
      "source": [
        "#hide\n",
        "from fastbook import *\n",
        "#from kaggle import api\n",
        "from pandas.api.types import is_string_dtype, is_numeric_dtype, is_categorical_dtype\n",
        "from fastai.tabular.all import *\n",
        "from sklearn.ensemble import RandomForestRegressor\n",
        "from sklearn.tree import DecisionTreeRegressor\n",
        "from dtreeviz.trees import *\n",
        "from IPython.display import Image, display_svg, SVG\n",
        "\n",
        "pd.options.display.max_rows = 20\n"
      ],
      "execution_count": null,
      "outputs": []
    },
    {
      "cell_type": "code",
      "metadata": {
        "id": "dx7aDm0eyvSO"
      },
      "source": [
        "pd.options.display.max_columns = 25"
      ],
      "execution_count": null,
      "outputs": []
    },
    {
      "cell_type": "code",
      "metadata": {
        "id": "m_NR_3319cLH"
      },
      "source": [
        "mkdir ~/.kaggle"
      ],
      "execution_count": null,
      "outputs": []
    },
    {
      "cell_type": "code",
      "metadata": {
        "id": "hLBeMO0L99Xy"
      },
      "source": [
        "cp /content/gdrive/MyDrive/kaggle.json ~/.kaggle/kaggle.json"
      ],
      "execution_count": null,
      "outputs": []
    },
    {
      "cell_type": "code",
      "metadata": {
        "id": "kNWadBk7_mXD"
      },
      "source": [
        "from kaggle import api"
      ],
      "execution_count": null,
      "outputs": []
    },
    {
      "cell_type": "code",
      "metadata": {
        "colab": {
          "base_uri": "https://localhost:8080/"
        },
        "id": "4u_K7zfU_sg4",
        "outputId": "a8e266b6-edad-422f-f388-488217399f10"
      },
      "source": [
        "path = URLs.path('rossmann')\n",
        "path"
      ],
      "execution_count": null,
      "outputs": [
        {
          "output_type": "execute_result",
          "data": {
            "text/plain": [
              "Path('/root/.fastai/archive/rossmann')"
            ]
          },
          "metadata": {
            "tags": []
          },
          "execution_count": 11
        }
      ]
    },
    {
      "cell_type": "code",
      "metadata": {
        "id": "eXLPBOBn_28F"
      },
      "source": [
        "#hide\n",
        "Path.BASE_PATH = path"
      ],
      "execution_count": null,
      "outputs": []
    },
    {
      "cell_type": "code",
      "metadata": {
        "colab": {
          "base_uri": "https://localhost:8080/"
        },
        "id": "NhQymTYO_8Lx",
        "outputId": "a2c0943f-b211-4c17-bd93-b4d683e77770"
      },
      "source": [
        "if not path.exists():\n",
        "    path.mkdir(parents=true)\n",
        "    api.competition_download_cli('rossmann-store-sales', path=path)\n",
        "    file_extract(path/'rossmann-store-sales.zip')\n",
        "\n",
        "path.ls(file_type='text')"
      ],
      "execution_count": null,
      "outputs": [
        {
          "output_type": "stream",
          "text": [
            "100%|██████████| 6.99M/6.99M [00:00<00:00, 43.4MB/s]"
          ],
          "name": "stderr"
        },
        {
          "output_type": "stream",
          "text": [
            "Downloading rossmann-store-sales.zip to /root/.fastai/archive/rossmann\n",
            "\n"
          ],
          "name": "stdout"
        },
        {
          "output_type": "stream",
          "text": [
            "\n"
          ],
          "name": "stderr"
        },
        {
          "output_type": "execute_result",
          "data": {
            "text/plain": [
              "(#4) [Path('train.csv'),Path('sample_submission.csv'),Path('store.csv'),Path('test.csv')]"
            ]
          },
          "metadata": {
            "tags": []
          },
          "execution_count": 13
        }
      ]
    },
    {
      "cell_type": "code",
      "metadata": {
        "id": "m42ogDtYAg3s"
      },
      "source": [
        "df = pd.read_csv(path/'train.csv', low_memory=False)"
      ],
      "execution_count": null,
      "outputs": []
    },
    {
      "cell_type": "code",
      "metadata": {
        "id": "OZmXcM_lBkRQ"
      },
      "source": [
        "stores = pd.read_csv(path/'store.csv', low_memory=False)"
      ],
      "execution_count": null,
      "outputs": []
    },
    {
      "cell_type": "code",
      "metadata": {
        "colab": {
          "base_uri": "https://localhost:8080/",
          "height": 235
        },
        "id": "RBQcv4ioG_hb",
        "outputId": "2bd72357-2e4c-4ef2-aff9-39dc6d0a8ba1"
      },
      "source": [
        "df.tail()"
      ],
      "execution_count": null,
      "outputs": [
        {
          "output_type": "execute_result",
          "data": {
            "text/html": [
              "<div>\n",
              "<style scoped>\n",
              "    .dataframe tbody tr th:only-of-type {\n",
              "        vertical-align: middle;\n",
              "    }\n",
              "\n",
              "    .dataframe tbody tr th {\n",
              "        vertical-align: top;\n",
              "    }\n",
              "\n",
              "    .dataframe thead th {\n",
              "        text-align: right;\n",
              "    }\n",
              "</style>\n",
              "<table border=\"1\" class=\"dataframe\">\n",
              "  <thead>\n",
              "    <tr style=\"text-align: right;\">\n",
              "      <th></th>\n",
              "      <th>Store</th>\n",
              "      <th>DayOfWeek</th>\n",
              "      <th>Date</th>\n",
              "      <th>Sales</th>\n",
              "      <th>...</th>\n",
              "      <th>Open</th>\n",
              "      <th>Promo</th>\n",
              "      <th>StateHoliday</th>\n",
              "      <th>SchoolHoliday</th>\n",
              "    </tr>\n",
              "  </thead>\n",
              "  <tbody>\n",
              "    <tr>\n",
              "      <th>1017204</th>\n",
              "      <td>1111</td>\n",
              "      <td>2</td>\n",
              "      <td>2013-01-01</td>\n",
              "      <td>0</td>\n",
              "      <td>...</td>\n",
              "      <td>False</td>\n",
              "      <td>False</td>\n",
              "      <td>a</td>\n",
              "      <td>True</td>\n",
              "    </tr>\n",
              "    <tr>\n",
              "      <th>1017205</th>\n",
              "      <td>1112</td>\n",
              "      <td>2</td>\n",
              "      <td>2013-01-01</td>\n",
              "      <td>0</td>\n",
              "      <td>...</td>\n",
              "      <td>False</td>\n",
              "      <td>False</td>\n",
              "      <td>a</td>\n",
              "      <td>True</td>\n",
              "    </tr>\n",
              "    <tr>\n",
              "      <th>1017206</th>\n",
              "      <td>1113</td>\n",
              "      <td>2</td>\n",
              "      <td>2013-01-01</td>\n",
              "      <td>0</td>\n",
              "      <td>...</td>\n",
              "      <td>False</td>\n",
              "      <td>False</td>\n",
              "      <td>a</td>\n",
              "      <td>True</td>\n",
              "    </tr>\n",
              "    <tr>\n",
              "      <th>1017207</th>\n",
              "      <td>1114</td>\n",
              "      <td>2</td>\n",
              "      <td>2013-01-01</td>\n",
              "      <td>0</td>\n",
              "      <td>...</td>\n",
              "      <td>False</td>\n",
              "      <td>False</td>\n",
              "      <td>a</td>\n",
              "      <td>True</td>\n",
              "    </tr>\n",
              "    <tr>\n",
              "      <th>1017208</th>\n",
              "      <td>1115</td>\n",
              "      <td>2</td>\n",
              "      <td>2013-01-01</td>\n",
              "      <td>0</td>\n",
              "      <td>...</td>\n",
              "      <td>False</td>\n",
              "      <td>False</td>\n",
              "      <td>a</td>\n",
              "      <td>True</td>\n",
              "    </tr>\n",
              "  </tbody>\n",
              "</table>\n",
              "<p>5 rows × 9 columns</p>\n",
              "</div>"
            ],
            "text/plain": [
              "         Store  DayOfWeek        Date  Sales  ...   Open  Promo  StateHoliday  \\\n",
              "1017204   1111          2  2013-01-01      0  ...  False  False             a   \n",
              "1017205   1112          2  2013-01-01      0  ...  False  False             a   \n",
              "1017206   1113          2  2013-01-01      0  ...  False  False             a   \n",
              "1017207   1114          2  2013-01-01      0  ...  False  False             a   \n",
              "1017208   1115          2  2013-01-01      0  ...  False  False             a   \n",
              "\n",
              "        SchoolHoliday  \n",
              "1017204          True  \n",
              "1017205          True  \n",
              "1017206          True  \n",
              "1017207          True  \n",
              "1017208          True  \n",
              "\n",
              "[5 rows x 9 columns]"
            ]
          },
          "metadata": {
            "tags": []
          },
          "execution_count": 122
        }
      ]
    },
    {
      "cell_type": "code",
      "metadata": {
        "colab": {
          "base_uri": "https://localhost:8080/"
        },
        "id": "o0sL0pnIXeAY",
        "outputId": "08c3fe70-fd7f-4abb-eadb-c606e2d97ff3"
      },
      "source": [
        "df['Promo'].value_counts()"
      ],
      "execution_count": null,
      "outputs": [
        {
          "output_type": "execute_result",
          "data": {
            "text/plain": [
              "0    629129\n",
              "1    388080\n",
              "Name: Promo, dtype: int64"
            ]
          },
          "metadata": {
            "tags": []
          },
          "execution_count": 120
        }
      ]
    },
    {
      "cell_type": "code",
      "metadata": {
        "id": "V5lJc0foW8fU"
      },
      "source": [
        "for col in ['Open','Promo',  'SchoolHoliday']:\n",
        "  df[col] = df[col].astype('bool', copy=False)"
      ],
      "execution_count": null,
      "outputs": []
    },
    {
      "cell_type": "code",
      "metadata": {
        "colab": {
          "base_uri": "https://localhost:8080/"
        },
        "id": "RGjdKBzDBu8C",
        "outputId": "120a8eb5-d69a-4f90-ecc1-efb776e41536"
      },
      "source": [
        "df.info()"
      ],
      "execution_count": null,
      "outputs": [
        {
          "output_type": "stream",
          "text": [
            "<class 'pandas.core.frame.DataFrame'>\n",
            "RangeIndex: 1017209 entries, 0 to 1017208\n",
            "Data columns (total 9 columns):\n",
            " #   Column         Non-Null Count    Dtype \n",
            "---  ------         --------------    ----- \n",
            " 0   Store          1017209 non-null  int64 \n",
            " 1   DayOfWeek      1017209 non-null  int64 \n",
            " 2   Date           1017209 non-null  object\n",
            " 3   Sales          1017209 non-null  int64 \n",
            " 4   Customers      1017209 non-null  int64 \n",
            " 5   Open           1017209 non-null  int64 \n",
            " 6   Promo          1017209 non-null  int64 \n",
            " 7   StateHoliday   1017209 non-null  object\n",
            " 8   SchoolHoliday  1017209 non-null  int64 \n",
            "dtypes: int64(7), object(2)\n",
            "memory usage: 69.8+ MB\n"
          ],
          "name": "stdout"
        }
      ]
    },
    {
      "cell_type": "code",
      "metadata": {
        "colab": {
          "base_uri": "https://localhost:8080/"
        },
        "id": "EuTePXltBq3U",
        "outputId": "1c006fcd-a3fb-4ea1-a821-5d052788d0ef"
      },
      "source": [
        "stores.info()"
      ],
      "execution_count": null,
      "outputs": [
        {
          "output_type": "stream",
          "text": [
            "<class 'pandas.core.frame.DataFrame'>\n",
            "RangeIndex: 1115 entries, 0 to 1114\n",
            "Data columns (total 10 columns):\n",
            " #   Column                     Non-Null Count  Dtype  \n",
            "---  ------                     --------------  -----  \n",
            " 0   Store                      1115 non-null   int64  \n",
            " 1   StoreType                  1115 non-null   object \n",
            " 2   Assortment                 1115 non-null   object \n",
            " 3   CompetitionDistance        1112 non-null   float64\n",
            " 4   CompetitionOpenSinceMonth  761 non-null    float64\n",
            " 5   CompetitionOpenSinceYear   761 non-null    float64\n",
            " 6   Promo2                     1115 non-null   bool   \n",
            " 7   Promo2SinceWeek            571 non-null    float64\n",
            " 8   Promo2SinceYear            571 non-null    float64\n",
            " 9   PromoInterval              571 non-null    object \n",
            "dtypes: bool(1), float64(5), int64(1), object(3)\n",
            "memory usage: 79.6+ KB\n"
          ],
          "name": "stdout"
        }
      ]
    },
    {
      "cell_type": "code",
      "metadata": {
        "colab": {
          "base_uri": "https://localhost:8080/"
        },
        "id": "vj1cyySvB_ks",
        "outputId": "37ad1dd3-af91-4474-c2d9-e4311e514a8a"
      },
      "source": [
        "stores.isnull().sum()"
      ],
      "execution_count": null,
      "outputs": [
        {
          "output_type": "execute_result",
          "data": {
            "text/plain": [
              "Store                          0\n",
              "StoreType                      0\n",
              "Assortment                     0\n",
              "CompetitionDistance            3\n",
              "CompetitionOpenSinceMonth    354\n",
              "CompetitionOpenSinceYear     354\n",
              "Promo2                         0\n",
              "Promo2SinceWeek              544\n",
              "Promo2SinceYear              544\n",
              "PromoInterval                544\n",
              "dtype: int64"
            ]
          },
          "metadata": {
            "tags": []
          },
          "execution_count": 73
        }
      ]
    },
    {
      "cell_type": "code",
      "metadata": {
        "colab": {
          "base_uri": "https://localhost:8080/"
        },
        "id": "61jweJyfCHL9",
        "outputId": "70bcd39c-ec99-4403-dcf6-88c230d39b64"
      },
      "source": [
        "df['SchoolHoliday'].value_counts()"
      ],
      "execution_count": null,
      "outputs": [
        {
          "output_type": "execute_result",
          "data": {
            "text/plain": [
              "False    835488\n",
              "True     181721\n",
              "Name: SchoolHoliday, dtype: int64"
            ]
          },
          "metadata": {
            "tags": []
          },
          "execution_count": 127
        }
      ]
    },
    {
      "cell_type": "code",
      "metadata": {
        "id": "0S_FKNfwJXvw"
      },
      "source": [
        "stores.drop(['CompetitionOpenSinceMonth', 'CompetitionOpenSinceYear'], axis =1, inplace=True)"
      ],
      "execution_count": null,
      "outputs": []
    },
    {
      "cell_type": "markdown",
      "metadata": {
        "id": "wt4hfb-62WIq"
      },
      "source": [
        "In handling Nans, we see that the CompetitionOpen Since fields have a lot of Nans and intuitively do not seem the ost influential. So I dropped them."
      ]
    },
    {
      "cell_type": "code",
      "metadata": {
        "id": "gSPxQhxVPGkG"
      },
      "source": [
        "for col in ['Promo2SinceWeek', 'Promo2SinceYear']:\n",
        "  stores[col]=stores[col].astype('Int64', copy=False, errors='ignore')"
      ],
      "execution_count": null,
      "outputs": []
    },
    {
      "cell_type": "code",
      "metadata": {
        "id": "4yz1HR7kYBke"
      },
      "source": [
        "stores['Promo2'] = stores['Promo2'].astype('bool', copy=False)"
      ],
      "execution_count": null,
      "outputs": []
    },
    {
      "cell_type": "code",
      "metadata": {
        "colab": {
          "base_uri": "https://localhost:8080/"
        },
        "id": "C56pu-UpRro5",
        "outputId": "065acb3a-b913-4b7a-e19c-6790070d515f"
      },
      "source": [
        "stores['Promo2'].value_counts()"
      ],
      "execution_count": null,
      "outputs": [
        {
          "output_type": "execute_result",
          "data": {
            "text/plain": [
              "True     571\n",
              "False    544\n",
              "Name: Promo2, dtype: int64"
            ]
          },
          "metadata": {
            "tags": []
          },
          "execution_count": 125
        }
      ]
    },
    {
      "cell_type": "markdown",
      "metadata": {
        "id": "IjdHCSW720Z9"
      },
      "source": [
        "Also, Competition distance seems important, and has a few Nans, but only 3, so let's drop those 3 rows - that is after merging the training and store datframes"
      ]
    },
    {
      "cell_type": "code",
      "metadata": {
        "id": "y9I9urFHEpfa"
      },
      "source": [
        "train = df.merge(stores, on='Store')\n",
        "train.dropna(subset=['CompetitionDistance'], inplace=True)"
      ],
      "execution_count": null,
      "outputs": []
    },
    {
      "cell_type": "code",
      "metadata": {
        "colab": {
          "base_uri": "https://localhost:8080/",
          "height": 235
        },
        "id": "YoeMTWEjGjyo",
        "outputId": "c52e900c-9c2b-4b80-e7b5-22a9a328aca7"
      },
      "source": [
        "  train.head()"
      ],
      "execution_count": null,
      "outputs": [
        {
          "output_type": "execute_result",
          "data": {
            "text/html": [
              "<div>\n",
              "<style scoped>\n",
              "    .dataframe tbody tr th:only-of-type {\n",
              "        vertical-align: middle;\n",
              "    }\n",
              "\n",
              "    .dataframe tbody tr th {\n",
              "        vertical-align: top;\n",
              "    }\n",
              "\n",
              "    .dataframe thead th {\n",
              "        text-align: right;\n",
              "    }\n",
              "</style>\n",
              "<table border=\"1\" class=\"dataframe\">\n",
              "  <thead>\n",
              "    <tr style=\"text-align: right;\">\n",
              "      <th></th>\n",
              "      <th>Store</th>\n",
              "      <th>DayOfWeek</th>\n",
              "      <th>Date</th>\n",
              "      <th>Sales</th>\n",
              "      <th>...</th>\n",
              "      <th>Promo2</th>\n",
              "      <th>Promo2SinceWeek</th>\n",
              "      <th>Promo2SinceYear</th>\n",
              "      <th>PromoInterval</th>\n",
              "    </tr>\n",
              "  </thead>\n",
              "  <tbody>\n",
              "    <tr>\n",
              "      <th>0</th>\n",
              "      <td>1</td>\n",
              "      <td>5</td>\n",
              "      <td>2015-07-31</td>\n",
              "      <td>5263</td>\n",
              "      <td>...</td>\n",
              "      <td>False</td>\n",
              "      <td>&lt;NA&gt;</td>\n",
              "      <td>&lt;NA&gt;</td>\n",
              "      <td>NaN</td>\n",
              "    </tr>\n",
              "    <tr>\n",
              "      <th>1</th>\n",
              "      <td>1</td>\n",
              "      <td>4</td>\n",
              "      <td>2015-07-30</td>\n",
              "      <td>5020</td>\n",
              "      <td>...</td>\n",
              "      <td>False</td>\n",
              "      <td>&lt;NA&gt;</td>\n",
              "      <td>&lt;NA&gt;</td>\n",
              "      <td>NaN</td>\n",
              "    </tr>\n",
              "    <tr>\n",
              "      <th>2</th>\n",
              "      <td>1</td>\n",
              "      <td>3</td>\n",
              "      <td>2015-07-29</td>\n",
              "      <td>4782</td>\n",
              "      <td>...</td>\n",
              "      <td>False</td>\n",
              "      <td>&lt;NA&gt;</td>\n",
              "      <td>&lt;NA&gt;</td>\n",
              "      <td>NaN</td>\n",
              "    </tr>\n",
              "    <tr>\n",
              "      <th>3</th>\n",
              "      <td>1</td>\n",
              "      <td>2</td>\n",
              "      <td>2015-07-28</td>\n",
              "      <td>5011</td>\n",
              "      <td>...</td>\n",
              "      <td>False</td>\n",
              "      <td>&lt;NA&gt;</td>\n",
              "      <td>&lt;NA&gt;</td>\n",
              "      <td>NaN</td>\n",
              "    </tr>\n",
              "    <tr>\n",
              "      <th>4</th>\n",
              "      <td>1</td>\n",
              "      <td>1</td>\n",
              "      <td>2015-07-27</td>\n",
              "      <td>6102</td>\n",
              "      <td>...</td>\n",
              "      <td>False</td>\n",
              "      <td>&lt;NA&gt;</td>\n",
              "      <td>&lt;NA&gt;</td>\n",
              "      <td>NaN</td>\n",
              "    </tr>\n",
              "  </tbody>\n",
              "</table>\n",
              "<p>5 rows × 16 columns</p>\n",
              "</div>"
            ],
            "text/plain": [
              "   Store  DayOfWeek        Date  Sales  ...  Promo2  Promo2SinceWeek  \\\n",
              "0      1          5  2015-07-31   5263  ...   False             <NA>   \n",
              "1      1          4  2015-07-30   5020  ...   False             <NA>   \n",
              "2      1          3  2015-07-29   4782  ...   False             <NA>   \n",
              "3      1          2  2015-07-28   5011  ...   False             <NA>   \n",
              "4      1          1  2015-07-27   6102  ...   False             <NA>   \n",
              "\n",
              "   Promo2SinceYear PromoInterval  \n",
              "0             <NA>           NaN  \n",
              "1             <NA>           NaN  \n",
              "2             <NA>           NaN  \n",
              "3             <NA>           NaN  \n",
              "4             <NA>           NaN  \n",
              "\n",
              "[5 rows x 16 columns]"
            ]
          },
          "metadata": {
            "tags": []
          },
          "execution_count": 175
        }
      ]
    },
    {
      "cell_type": "code",
      "metadata": {
        "colab": {
          "base_uri": "https://localhost:8080/",
          "height": 332
        },
        "id": "Gk8hySdeYzQq",
        "outputId": "23e895f5-ced9-4ff9-fdfe-05fa4d8649ac"
      },
      "source": [
        "train.where(type(train) != pandas._libs.missing.NAType, np.nan)"
      ],
      "execution_count": null,
      "outputs": [
        {
          "output_type": "error",
          "ename": "KeyError",
          "evalue": "ignored",
          "traceback": [
            "\u001b[0;31m---------------------------------------------------------------------------\u001b[0m",
            "\u001b[0;31mKeyError\u001b[0m                                  Traceback (most recent call last)",
            "\u001b[0;32m<ipython-input-202-d4483415bffc>\u001b[0m in \u001b[0;36m<module>\u001b[0;34m()\u001b[0m\n\u001b[0;32m----> 1\u001b[0;31m \u001b[0mtype\u001b[0m\u001b[0;34m(\u001b[0m \u001b[0mtrain\u001b[0m\u001b[0;34m.\u001b[0m\u001b[0mloc\u001b[0m\u001b[0;34m[\u001b[0m\u001b[0;34m:\u001b[0m\u001b[0;36m3\u001b[0m\u001b[0;34m,\u001b[0m\u001b[0;34m[\u001b[0m\u001b[0;34m'Promo2SinceWeek'\u001b[0m\u001b[0;34m,\u001b[0m\u001b[0;34m'Promo2SinceYear'\u001b[0m \u001b[0;34m]\u001b[0m\u001b[0;34m]\u001b[0m\u001b[0;34m.\u001b[0m\u001b[0mloc\u001b[0m\u001b[0;34m[\u001b[0m\u001b[0;34m[\u001b[0m\u001b[0;36m0\u001b[0m\u001b[0;34m,\u001b[0m\u001b[0;36m5\u001b[0m\u001b[0;34m]\u001b[0m\u001b[0;34m]\u001b[0m\u001b[0;34m)\u001b[0m\u001b[0;34m\u001b[0m\u001b[0;34m\u001b[0m\u001b[0m\n\u001b[0m",
            "\u001b[0;32m/usr/local/lib/python3.6/dist-packages/pandas/core/indexing.py\u001b[0m in \u001b[0;36m__getitem__\u001b[0;34m(self, key)\u001b[0m\n\u001b[1;32m    877\u001b[0m \u001b[0;34m\u001b[0m\u001b[0m\n\u001b[1;32m    878\u001b[0m             \u001b[0mmaybe_callable\u001b[0m \u001b[0;34m=\u001b[0m \u001b[0mcom\u001b[0m\u001b[0;34m.\u001b[0m\u001b[0mapply_if_callable\u001b[0m\u001b[0;34m(\u001b[0m\u001b[0mkey\u001b[0m\u001b[0;34m,\u001b[0m \u001b[0mself\u001b[0m\u001b[0;34m.\u001b[0m\u001b[0mobj\u001b[0m\u001b[0;34m)\u001b[0m\u001b[0;34m\u001b[0m\u001b[0;34m\u001b[0m\u001b[0m\n\u001b[0;32m--> 879\u001b[0;31m             \u001b[0;32mreturn\u001b[0m \u001b[0mself\u001b[0m\u001b[0;34m.\u001b[0m\u001b[0m_getitem_axis\u001b[0m\u001b[0;34m(\u001b[0m\u001b[0mmaybe_callable\u001b[0m\u001b[0;34m,\u001b[0m \u001b[0maxis\u001b[0m\u001b[0;34m=\u001b[0m\u001b[0maxis\u001b[0m\u001b[0;34m)\u001b[0m\u001b[0;34m\u001b[0m\u001b[0;34m\u001b[0m\u001b[0m\n\u001b[0m\u001b[1;32m    880\u001b[0m \u001b[0;34m\u001b[0m\u001b[0m\n\u001b[1;32m    881\u001b[0m     \u001b[0;32mdef\u001b[0m \u001b[0m_is_scalar_access\u001b[0m\u001b[0;34m(\u001b[0m\u001b[0mself\u001b[0m\u001b[0;34m,\u001b[0m \u001b[0mkey\u001b[0m\u001b[0;34m:\u001b[0m \u001b[0mTuple\u001b[0m\u001b[0;34m)\u001b[0m\u001b[0;34m:\u001b[0m\u001b[0;34m\u001b[0m\u001b[0;34m\u001b[0m\u001b[0m\n",
            "\u001b[0;32m/usr/local/lib/python3.6/dist-packages/pandas/core/indexing.py\u001b[0m in \u001b[0;36m_getitem_axis\u001b[0;34m(self, key, axis)\u001b[0m\n\u001b[1;32m   1097\u001b[0m                     \u001b[0;32mraise\u001b[0m \u001b[0mValueError\u001b[0m\u001b[0;34m(\u001b[0m\u001b[0;34m\"Cannot index with multidimensional key\"\u001b[0m\u001b[0;34m)\u001b[0m\u001b[0;34m\u001b[0m\u001b[0;34m\u001b[0m\u001b[0m\n\u001b[1;32m   1098\u001b[0m \u001b[0;34m\u001b[0m\u001b[0m\n\u001b[0;32m-> 1099\u001b[0;31m                 \u001b[0;32mreturn\u001b[0m \u001b[0mself\u001b[0m\u001b[0;34m.\u001b[0m\u001b[0m_getitem_iterable\u001b[0m\u001b[0;34m(\u001b[0m\u001b[0mkey\u001b[0m\u001b[0;34m,\u001b[0m \u001b[0maxis\u001b[0m\u001b[0;34m=\u001b[0m\u001b[0maxis\u001b[0m\u001b[0;34m)\u001b[0m\u001b[0;34m\u001b[0m\u001b[0;34m\u001b[0m\u001b[0m\n\u001b[0m\u001b[1;32m   1100\u001b[0m \u001b[0;34m\u001b[0m\u001b[0m\n\u001b[1;32m   1101\u001b[0m             \u001b[0;31m# nested tuple slicing\u001b[0m\u001b[0;34m\u001b[0m\u001b[0;34m\u001b[0m\u001b[0;34m\u001b[0m\u001b[0m\n",
            "\u001b[0;32m/usr/local/lib/python3.6/dist-packages/pandas/core/indexing.py\u001b[0m in \u001b[0;36m_getitem_iterable\u001b[0;34m(self, key, axis)\u001b[0m\n\u001b[1;32m   1035\u001b[0m \u001b[0;34m\u001b[0m\u001b[0m\n\u001b[1;32m   1036\u001b[0m         \u001b[0;31m# A collection of keys\u001b[0m\u001b[0;34m\u001b[0m\u001b[0;34m\u001b[0m\u001b[0;34m\u001b[0m\u001b[0m\n\u001b[0;32m-> 1037\u001b[0;31m         \u001b[0mkeyarr\u001b[0m\u001b[0;34m,\u001b[0m \u001b[0mindexer\u001b[0m \u001b[0;34m=\u001b[0m \u001b[0mself\u001b[0m\u001b[0;34m.\u001b[0m\u001b[0m_get_listlike_indexer\u001b[0m\u001b[0;34m(\u001b[0m\u001b[0mkey\u001b[0m\u001b[0;34m,\u001b[0m \u001b[0maxis\u001b[0m\u001b[0;34m,\u001b[0m \u001b[0mraise_missing\u001b[0m\u001b[0;34m=\u001b[0m\u001b[0;32mFalse\u001b[0m\u001b[0;34m)\u001b[0m\u001b[0;34m\u001b[0m\u001b[0;34m\u001b[0m\u001b[0m\n\u001b[0m\u001b[1;32m   1038\u001b[0m         return self.obj._reindex_with_indexers(\n\u001b[1;32m   1039\u001b[0m             \u001b[0;34m{\u001b[0m\u001b[0maxis\u001b[0m\u001b[0;34m:\u001b[0m \u001b[0;34m[\u001b[0m\u001b[0mkeyarr\u001b[0m\u001b[0;34m,\u001b[0m \u001b[0mindexer\u001b[0m\u001b[0;34m]\u001b[0m\u001b[0;34m}\u001b[0m\u001b[0;34m,\u001b[0m \u001b[0mcopy\u001b[0m\u001b[0;34m=\u001b[0m\u001b[0;32mTrue\u001b[0m\u001b[0;34m,\u001b[0m \u001b[0mallow_dups\u001b[0m\u001b[0;34m=\u001b[0m\u001b[0;32mTrue\u001b[0m\u001b[0;34m\u001b[0m\u001b[0;34m\u001b[0m\u001b[0m\n",
            "\u001b[0;32m/usr/local/lib/python3.6/dist-packages/pandas/core/indexing.py\u001b[0m in \u001b[0;36m_get_listlike_indexer\u001b[0;34m(self, key, axis, raise_missing)\u001b[0m\n\u001b[1;32m   1252\u001b[0m             \u001b[0mkeyarr\u001b[0m\u001b[0;34m,\u001b[0m \u001b[0mindexer\u001b[0m\u001b[0;34m,\u001b[0m \u001b[0mnew_indexer\u001b[0m \u001b[0;34m=\u001b[0m \u001b[0max\u001b[0m\u001b[0;34m.\u001b[0m\u001b[0m_reindex_non_unique\u001b[0m\u001b[0;34m(\u001b[0m\u001b[0mkeyarr\u001b[0m\u001b[0;34m)\u001b[0m\u001b[0;34m\u001b[0m\u001b[0;34m\u001b[0m\u001b[0m\n\u001b[1;32m   1253\u001b[0m \u001b[0;34m\u001b[0m\u001b[0m\n\u001b[0;32m-> 1254\u001b[0;31m         \u001b[0mself\u001b[0m\u001b[0;34m.\u001b[0m\u001b[0m_validate_read_indexer\u001b[0m\u001b[0;34m(\u001b[0m\u001b[0mkeyarr\u001b[0m\u001b[0;34m,\u001b[0m \u001b[0mindexer\u001b[0m\u001b[0;34m,\u001b[0m \u001b[0maxis\u001b[0m\u001b[0;34m,\u001b[0m \u001b[0mraise_missing\u001b[0m\u001b[0;34m=\u001b[0m\u001b[0mraise_missing\u001b[0m\u001b[0;34m)\u001b[0m\u001b[0;34m\u001b[0m\u001b[0;34m\u001b[0m\u001b[0m\n\u001b[0m\u001b[1;32m   1255\u001b[0m         \u001b[0;32mreturn\u001b[0m \u001b[0mkeyarr\u001b[0m\u001b[0;34m,\u001b[0m \u001b[0mindexer\u001b[0m\u001b[0;34m\u001b[0m\u001b[0;34m\u001b[0m\u001b[0m\n\u001b[1;32m   1256\u001b[0m \u001b[0;34m\u001b[0m\u001b[0m\n",
            "\u001b[0;32m/usr/local/lib/python3.6/dist-packages/pandas/core/indexing.py\u001b[0m in \u001b[0;36m_validate_read_indexer\u001b[0;34m(self, key, indexer, axis, raise_missing)\u001b[0m\n\u001b[1;32m   1314\u001b[0m                 \u001b[0;32mwith\u001b[0m \u001b[0moption_context\u001b[0m\u001b[0;34m(\u001b[0m\u001b[0;34m\"display.max_seq_items\"\u001b[0m\u001b[0;34m,\u001b[0m \u001b[0;36m10\u001b[0m\u001b[0;34m,\u001b[0m \u001b[0;34m\"display.width\"\u001b[0m\u001b[0;34m,\u001b[0m \u001b[0;36m80\u001b[0m\u001b[0;34m)\u001b[0m\u001b[0;34m:\u001b[0m\u001b[0;34m\u001b[0m\u001b[0;34m\u001b[0m\u001b[0m\n\u001b[1;32m   1315\u001b[0m                     raise KeyError(\n\u001b[0;32m-> 1316\u001b[0;31m                         \u001b[0;34m\"Passing list-likes to .loc or [] with any missing labels \"\u001b[0m\u001b[0;34m\u001b[0m\u001b[0;34m\u001b[0m\u001b[0m\n\u001b[0m\u001b[1;32m   1317\u001b[0m                         \u001b[0;34m\"is no longer supported. \"\u001b[0m\u001b[0;34m\u001b[0m\u001b[0;34m\u001b[0m\u001b[0m\n\u001b[1;32m   1318\u001b[0m                         \u001b[0;34mf\"The following labels were missing: {not_found}. \"\u001b[0m\u001b[0;34m\u001b[0m\u001b[0;34m\u001b[0m\u001b[0m\n",
            "\u001b[0;31mKeyError\u001b[0m: \"Passing list-likes to .loc or [] with any missing labels is no longer supported. The following labels were missing: Int64Index([5], dtype='int64'). See https://pandas.pydata.org/pandas-docs/stable/user_guide/indexing.html#deprecate-loc-reindex-listlike\""
          ]
        }
      ]
    },
    {
      "cell_type": "code",
      "metadata": {
        "colab": {
          "base_uri": "https://localhost:8080/"
        },
        "id": "yy3a2OS-aDNt",
        "outputId": "d384822b-2d61-49f7-fe51-3516c4c85f59"
      },
      "source": [
        "train.loc[6000,'Promo2SinceWeek'] == 3"
      ],
      "execution_count": null,
      "outputs": [
        {
          "output_type": "execute_result",
          "data": {
            "text/plain": [
              "<NA>"
            ]
          },
          "metadata": {
            "tags": []
          },
          "execution_count": 210
        }
      ]
    },
    {
      "cell_type": "markdown",
      "metadata": {
        "id": "Xk1skA6b3JnM"
      },
      "source": [
        "Looking at Sales = 0, there seems no obvious other factor explaining this.Zero sales are well distributed among date, day of the week, Open, Promo, holidays, and store types.\n",
        "\n",
        "We can see on the kaggle page that the vertical bar of zero sales breaks an otherwise well distributed looking Sales variable. So for the sake of the assignment I am dropping these, which account for over 17% of the data "
      ]
    },
    {
      "cell_type": "code",
      "metadata": {
        "id": "sciozMdwbsxS",
        "colab": {
          "base_uri": "https://localhost:8080/"
        },
        "outputId": "18860fac-26e7-4449-d7c6-7ece5fe2ba9c"
      },
      "source": [
        "train[train['Sales'] >1]['Date'].sort_values()"
      ],
      "execution_count": null,
      "outputs": [
        {
          "output_type": "execute_result",
          "data": {
            "text/plain": [
              "483619    2013-01-01\n",
              "386137    2013-01-01\n",
              "512659    2013-01-01\n",
              "235513    2013-01-01\n",
              "77677     2013-01-01\n",
              "             ...    \n",
              "310734    2015-07-31\n",
              "620526    2015-07-31\n",
              "909549    2015-07-31\n",
              "313376    2015-07-31\n",
              "0         2015-07-31\n",
              "Name: Date, Length: 842152, dtype: object"
            ]
          },
          "metadata": {
            "tags": []
          },
          "execution_count": 241
        }
      ]
    },
    {
      "cell_type": "code",
      "metadata": {
        "colab": {
          "base_uri": "https://localhost:8080/"
        },
        "id": "SIdbgge8zbS_",
        "outputId": "74d12c8e-6612-40b9-96c2-21120bf2ffd2"
      },
      "source": [
        "print(train.shape)\n",
        "train = train.loc[train['Sales']>1]\n",
        "print(train.shape)"
      ],
      "execution_count": null,
      "outputs": [
        {
          "output_type": "stream",
          "text": [
            "(1014567, 16)\n",
            "(842152, 16)\n"
          ],
          "name": "stdout"
        }
      ]
    },
    {
      "cell_type": "markdown",
      "metadata": {
        "id": "lm9hwi4D506-"
      },
      "source": [
        "Let's add date parts as in the lesson"
      ]
    },
    {
      "cell_type": "code",
      "metadata": {
        "id": "cYF5Mx4tyAap"
      },
      "source": [
        "train = add_datepart(train, 'Date')"
      ],
      "execution_count": null,
      "outputs": []
    },
    {
      "cell_type": "code",
      "metadata": {
        "colab": {
          "base_uri": "https://localhost:8080/",
          "height": 192
        },
        "id": "qnO2NDO85iWx",
        "outputId": "28c6c46d-7ccb-457f-db0c-b1a3c899ded5"
      },
      "source": [
        "train.head(3)"
      ],
      "execution_count": null,
      "outputs": [
        {
          "output_type": "execute_result",
          "data": {
            "text/html": [
              "<div>\n",
              "<style scoped>\n",
              "    .dataframe tbody tr th:only-of-type {\n",
              "        vertical-align: middle;\n",
              "    }\n",
              "\n",
              "    .dataframe tbody tr th {\n",
              "        vertical-align: top;\n",
              "    }\n",
              "\n",
              "    .dataframe thead th {\n",
              "        text-align: right;\n",
              "    }\n",
              "</style>\n",
              "<table border=\"1\" class=\"dataframe\">\n",
              "  <thead>\n",
              "    <tr style=\"text-align: right;\">\n",
              "      <th></th>\n",
              "      <th>Store</th>\n",
              "      <th>DayOfWeek</th>\n",
              "      <th>Week</th>\n",
              "      <th>Sales</th>\n",
              "      <th>Customers</th>\n",
              "      <th>Open</th>\n",
              "      <th>Promo</th>\n",
              "      <th>StateHoliday</th>\n",
              "      <th>SchoolHoliday</th>\n",
              "      <th>StoreType</th>\n",
              "      <th>Assortment</th>\n",
              "      <th>CompetitionDistance</th>\n",
              "      <th>...</th>\n",
              "      <th>Year</th>\n",
              "      <th>Month</th>\n",
              "      <th>Day</th>\n",
              "      <th>Dayofweek</th>\n",
              "      <th>Dayofyear</th>\n",
              "      <th>Is_month_end</th>\n",
              "      <th>Is_month_start</th>\n",
              "      <th>Is_quarter_end</th>\n",
              "      <th>Is_quarter_start</th>\n",
              "      <th>Is_year_end</th>\n",
              "      <th>Is_year_start</th>\n",
              "      <th>Elapsed</th>\n",
              "    </tr>\n",
              "  </thead>\n",
              "  <tbody>\n",
              "    <tr>\n",
              "      <th>0</th>\n",
              "      <td>1</td>\n",
              "      <td>5</td>\n",
              "      <td>31</td>\n",
              "      <td>5263</td>\n",
              "      <td>555</td>\n",
              "      <td>True</td>\n",
              "      <td>True</td>\n",
              "      <td>0</td>\n",
              "      <td>True</td>\n",
              "      <td>c</td>\n",
              "      <td>a</td>\n",
              "      <td>1270.0</td>\n",
              "      <td>...</td>\n",
              "      <td>2015</td>\n",
              "      <td>7</td>\n",
              "      <td>31</td>\n",
              "      <td>4</td>\n",
              "      <td>212</td>\n",
              "      <td>True</td>\n",
              "      <td>False</td>\n",
              "      <td>False</td>\n",
              "      <td>False</td>\n",
              "      <td>False</td>\n",
              "      <td>False</td>\n",
              "      <td>1438300800</td>\n",
              "    </tr>\n",
              "    <tr>\n",
              "      <th>1</th>\n",
              "      <td>1</td>\n",
              "      <td>4</td>\n",
              "      <td>31</td>\n",
              "      <td>5020</td>\n",
              "      <td>546</td>\n",
              "      <td>True</td>\n",
              "      <td>True</td>\n",
              "      <td>0</td>\n",
              "      <td>True</td>\n",
              "      <td>c</td>\n",
              "      <td>a</td>\n",
              "      <td>1270.0</td>\n",
              "      <td>...</td>\n",
              "      <td>2015</td>\n",
              "      <td>7</td>\n",
              "      <td>30</td>\n",
              "      <td>3</td>\n",
              "      <td>211</td>\n",
              "      <td>False</td>\n",
              "      <td>False</td>\n",
              "      <td>False</td>\n",
              "      <td>False</td>\n",
              "      <td>False</td>\n",
              "      <td>False</td>\n",
              "      <td>1438214400</td>\n",
              "    </tr>\n",
              "    <tr>\n",
              "      <th>2</th>\n",
              "      <td>1</td>\n",
              "      <td>3</td>\n",
              "      <td>31</td>\n",
              "      <td>4782</td>\n",
              "      <td>523</td>\n",
              "      <td>True</td>\n",
              "      <td>True</td>\n",
              "      <td>0</td>\n",
              "      <td>True</td>\n",
              "      <td>c</td>\n",
              "      <td>a</td>\n",
              "      <td>1270.0</td>\n",
              "      <td>...</td>\n",
              "      <td>2015</td>\n",
              "      <td>7</td>\n",
              "      <td>29</td>\n",
              "      <td>2</td>\n",
              "      <td>210</td>\n",
              "      <td>False</td>\n",
              "      <td>False</td>\n",
              "      <td>False</td>\n",
              "      <td>False</td>\n",
              "      <td>False</td>\n",
              "      <td>False</td>\n",
              "      <td>1438128000</td>\n",
              "    </tr>\n",
              "  </tbody>\n",
              "</table>\n",
              "<p>3 rows × 28 columns</p>\n",
              "</div>"
            ],
            "text/plain": [
              "   Store  DayOfWeek  Week  Sales  Customers  Open  Promo StateHoliday  \\\n",
              "0      1          5    31   5263        555  True   True            0   \n",
              "1      1          4    31   5020        546  True   True            0   \n",
              "2      1          3    31   4782        523  True   True            0   \n",
              "\n",
              "   SchoolHoliday StoreType Assortment  CompetitionDistance  ...  Year  Month  \\\n",
              "0           True         c          a               1270.0  ...  2015      7   \n",
              "1           True         c          a               1270.0  ...  2015      7   \n",
              "2           True         c          a               1270.0  ...  2015      7   \n",
              "\n",
              "   Day Dayofweek  Dayofyear  Is_month_end  Is_month_start  Is_quarter_end  \\\n",
              "0   31         4        212          True           False           False   \n",
              "1   30         3        211         False           False           False   \n",
              "2   29         2        210         False           False           False   \n",
              "\n",
              "   Is_quarter_start  Is_year_end  Is_year_start     Elapsed  \n",
              "0             False        False          False  1438300800  \n",
              "1             False        False          False  1438214400  \n",
              "2             False        False          False  1438128000  \n",
              "\n",
              "[3 rows x 28 columns]"
            ]
          },
          "metadata": {
            "tags": []
          },
          "execution_count": 266
        }
      ]
    },
    {
      "cell_type": "markdown",
      "metadata": {
        "id": "AAELPiWAyj0i"
      },
      "source": [
        "We now have 2 columns for day of week. Let's drop the new original one and keep the new one, in the hope that fast.ai works better with its own creations"
      ]
    },
    {
      "cell_type": "code",
      "metadata": {
        "id": "TnahbuRo45YV"
      },
      "source": [
        "train.drop(['DayOfWeek'], inplace = True, axis =1)"
      ],
      "execution_count": null,
      "outputs": []
    },
    {
      "cell_type": "code",
      "metadata": {
        "id": "GdOWCKQT5sho"
      },
      "source": [
        "procs = [Categorify, FillMissing]"
      ],
      "execution_count": null,
      "outputs": []
    },
    {
      "cell_type": "markdown",
      "metadata": {
        "id": "LGKR7fJS6Aoz"
      },
      "source": [
        "There is the same phenomenon going on here as in the lesson: the test set on Kaggle has all later dates than train set.\n",
        "\n",
        "So let's do our split chronologically. First let's look at the range of dates"
      ]
    },
    {
      "cell_type": "code",
      "metadata": {
        "colab": {
          "base_uri": "https://localhost:8080/",
          "height": 443
        },
        "id": "anhy4b_k68bq",
        "outputId": "93d825f6-283e-4646-ea72-dfef979d463e"
      },
      "source": [
        "train = train.sort_values(by=['Year', 'Month', 'Day']).reset_index()\n",
        "train"
      ],
      "execution_count": null,
      "outputs": [
        {
          "output_type": "execute_result",
          "data": {
            "text/html": [
              "<div>\n",
              "<style scoped>\n",
              "    .dataframe tbody tr th:only-of-type {\n",
              "        vertical-align: middle;\n",
              "    }\n",
              "\n",
              "    .dataframe tbody tr th {\n",
              "        vertical-align: top;\n",
              "    }\n",
              "\n",
              "    .dataframe thead th {\n",
              "        text-align: right;\n",
              "    }\n",
              "</style>\n",
              "<table border=\"1\" class=\"dataframe\">\n",
              "  <thead>\n",
              "    <tr style=\"text-align: right;\">\n",
              "      <th></th>\n",
              "      <th>level_0</th>\n",
              "      <th>index</th>\n",
              "      <th>Store</th>\n",
              "      <th>Week</th>\n",
              "      <th>Sales</th>\n",
              "      <th>Customers</th>\n",
              "      <th>Open</th>\n",
              "      <th>Promo</th>\n",
              "      <th>StateHoliday</th>\n",
              "      <th>SchoolHoliday</th>\n",
              "      <th>StoreType</th>\n",
              "      <th>Assortment</th>\n",
              "      <th>...</th>\n",
              "      <th>Year</th>\n",
              "      <th>Month</th>\n",
              "      <th>Day</th>\n",
              "      <th>Dayofweek</th>\n",
              "      <th>Dayofyear</th>\n",
              "      <th>Is_month_end</th>\n",
              "      <th>Is_month_start</th>\n",
              "      <th>Is_quarter_end</th>\n",
              "      <th>Is_quarter_start</th>\n",
              "      <th>Is_year_end</th>\n",
              "      <th>Is_year_start</th>\n",
              "      <th>Elapsed</th>\n",
              "    </tr>\n",
              "  </thead>\n",
              "  <tbody>\n",
              "    <tr>\n",
              "      <th>0</th>\n",
              "      <td>0</td>\n",
              "      <td>77677</td>\n",
              "      <td>85</td>\n",
              "      <td>1</td>\n",
              "      <td>4220</td>\n",
              "      <td>619</td>\n",
              "      <td>True</td>\n",
              "      <td>False</td>\n",
              "      <td>a</td>\n",
              "      <td>True</td>\n",
              "      <td>b</td>\n",
              "      <td>a</td>\n",
              "      <td>...</td>\n",
              "      <td>2013</td>\n",
              "      <td>1</td>\n",
              "      <td>1</td>\n",
              "      <td>1</td>\n",
              "      <td>1</td>\n",
              "      <td>False</td>\n",
              "      <td>True</td>\n",
              "      <td>False</td>\n",
              "      <td>True</td>\n",
              "      <td>False</td>\n",
              "      <td>True</td>\n",
              "      <td>1356998400</td>\n",
              "    </tr>\n",
              "    <tr>\n",
              "      <th>1</th>\n",
              "      <td>1</td>\n",
              "      <td>235513</td>\n",
              "      <td>259</td>\n",
              "      <td>1</td>\n",
              "      <td>6851</td>\n",
              "      <td>1444</td>\n",
              "      <td>True</td>\n",
              "      <td>False</td>\n",
              "      <td>a</td>\n",
              "      <td>True</td>\n",
              "      <td>b</td>\n",
              "      <td>b</td>\n",
              "      <td>...</td>\n",
              "      <td>2013</td>\n",
              "      <td>1</td>\n",
              "      <td>1</td>\n",
              "      <td>1</td>\n",
              "      <td>1</td>\n",
              "      <td>False</td>\n",
              "      <td>True</td>\n",
              "      <td>False</td>\n",
              "      <td>True</td>\n",
              "      <td>False</td>\n",
              "      <td>True</td>\n",
              "      <td>1356998400</td>\n",
              "    </tr>\n",
              "    <tr>\n",
              "      <th>2</th>\n",
              "      <td>2</td>\n",
              "      <td>238339</td>\n",
              "      <td>262</td>\n",
              "      <td>1</td>\n",
              "      <td>17267</td>\n",
              "      <td>2875</td>\n",
              "      <td>True</td>\n",
              "      <td>False</td>\n",
              "      <td>a</td>\n",
              "      <td>True</td>\n",
              "      <td>b</td>\n",
              "      <td>a</td>\n",
              "      <td>...</td>\n",
              "      <td>2013</td>\n",
              "      <td>1</td>\n",
              "      <td>1</td>\n",
              "      <td>1</td>\n",
              "      <td>1</td>\n",
              "      <td>False</td>\n",
              "      <td>True</td>\n",
              "      <td>False</td>\n",
              "      <td>True</td>\n",
              "      <td>False</td>\n",
              "      <td>True</td>\n",
              "      <td>1356998400</td>\n",
              "    </tr>\n",
              "    <tr>\n",
              "      <th>3</th>\n",
              "      <td>3</td>\n",
              "      <td>249459</td>\n",
              "      <td>274</td>\n",
              "      <td>1</td>\n",
              "      <td>3102</td>\n",
              "      <td>729</td>\n",
              "      <td>True</td>\n",
              "      <td>False</td>\n",
              "      <td>a</td>\n",
              "      <td>True</td>\n",
              "      <td>b</td>\n",
              "      <td>b</td>\n",
              "      <td>...</td>\n",
              "      <td>2013</td>\n",
              "      <td>1</td>\n",
              "      <td>1</td>\n",
              "      <td>1</td>\n",
              "      <td>1</td>\n",
              "      <td>False</td>\n",
              "      <td>True</td>\n",
              "      <td>False</td>\n",
              "      <td>True</td>\n",
              "      <td>False</td>\n",
              "      <td>True</td>\n",
              "      <td>1356998400</td>\n",
              "    </tr>\n",
              "    <tr>\n",
              "      <th>4</th>\n",
              "      <td>4</td>\n",
              "      <td>305081</td>\n",
              "      <td>335</td>\n",
              "      <td>1</td>\n",
              "      <td>2401</td>\n",
              "      <td>482</td>\n",
              "      <td>True</td>\n",
              "      <td>False</td>\n",
              "      <td>a</td>\n",
              "      <td>True</td>\n",
              "      <td>b</td>\n",
              "      <td>a</td>\n",
              "      <td>...</td>\n",
              "      <td>2013</td>\n",
              "      <td>1</td>\n",
              "      <td>1</td>\n",
              "      <td>1</td>\n",
              "      <td>1</td>\n",
              "      <td>False</td>\n",
              "      <td>True</td>\n",
              "      <td>False</td>\n",
              "      <td>True</td>\n",
              "      <td>False</td>\n",
              "      <td>True</td>\n",
              "      <td>1356998400</td>\n",
              "    </tr>\n",
              "    <tr>\n",
              "      <th>...</th>\n",
              "      <td>...</td>\n",
              "      <td>...</td>\n",
              "      <td>...</td>\n",
              "      <td>...</td>\n",
              "      <td>...</td>\n",
              "      <td>...</td>\n",
              "      <td>...</td>\n",
              "      <td>...</td>\n",
              "      <td>...</td>\n",
              "      <td>...</td>\n",
              "      <td>...</td>\n",
              "      <td>...</td>\n",
              "      <td>...</td>\n",
              "      <td>...</td>\n",
              "      <td>...</td>\n",
              "      <td>...</td>\n",
              "      <td>...</td>\n",
              "      <td>...</td>\n",
              "      <td>...</td>\n",
              "      <td>...</td>\n",
              "      <td>...</td>\n",
              "      <td>...</td>\n",
              "      <td>...</td>\n",
              "      <td>...</td>\n",
              "      <td>...</td>\n",
              "    </tr>\n",
              "    <tr>\n",
              "      <th>842147</th>\n",
              "      <td>842147</td>\n",
              "      <td>1012499</td>\n",
              "      <td>1111</td>\n",
              "      <td>31</td>\n",
              "      <td>5723</td>\n",
              "      <td>422</td>\n",
              "      <td>True</td>\n",
              "      <td>True</td>\n",
              "      <td>0</td>\n",
              "      <td>True</td>\n",
              "      <td>a</td>\n",
              "      <td>a</td>\n",
              "      <td>...</td>\n",
              "      <td>2015</td>\n",
              "      <td>7</td>\n",
              "      <td>31</td>\n",
              "      <td>4</td>\n",
              "      <td>212</td>\n",
              "      <td>True</td>\n",
              "      <td>False</td>\n",
              "      <td>False</td>\n",
              "      <td>False</td>\n",
              "      <td>False</td>\n",
              "      <td>False</td>\n",
              "      <td>1438300800</td>\n",
              "    </tr>\n",
              "    <tr>\n",
              "      <th>842148</th>\n",
              "      <td>842148</td>\n",
              "      <td>1013441</td>\n",
              "      <td>1112</td>\n",
              "      <td>31</td>\n",
              "      <td>9626</td>\n",
              "      <td>767</td>\n",
              "      <td>True</td>\n",
              "      <td>True</td>\n",
              "      <td>0</td>\n",
              "      <td>True</td>\n",
              "      <td>c</td>\n",
              "      <td>c</td>\n",
              "      <td>...</td>\n",
              "      <td>2015</td>\n",
              "      <td>7</td>\n",
              "      <td>31</td>\n",
              "      <td>4</td>\n",
              "      <td>212</td>\n",
              "      <td>True</td>\n",
              "      <td>False</td>\n",
              "      <td>False</td>\n",
              "      <td>False</td>\n",
              "      <td>False</td>\n",
              "      <td>False</td>\n",
              "      <td>1438300800</td>\n",
              "    </tr>\n",
              "    <tr>\n",
              "      <th>842149</th>\n",
              "      <td>842149</td>\n",
              "      <td>1014383</td>\n",
              "      <td>1113</td>\n",
              "      <td>31</td>\n",
              "      <td>7289</td>\n",
              "      <td>720</td>\n",
              "      <td>True</td>\n",
              "      <td>True</td>\n",
              "      <td>0</td>\n",
              "      <td>True</td>\n",
              "      <td>a</td>\n",
              "      <td>c</td>\n",
              "      <td>...</td>\n",
              "      <td>2015</td>\n",
              "      <td>7</td>\n",
              "      <td>31</td>\n",
              "      <td>4</td>\n",
              "      <td>212</td>\n",
              "      <td>True</td>\n",
              "      <td>False</td>\n",
              "      <td>False</td>\n",
              "      <td>False</td>\n",
              "      <td>False</td>\n",
              "      <td>False</td>\n",
              "      <td>1438300800</td>\n",
              "    </tr>\n",
              "    <tr>\n",
              "      <th>842150</th>\n",
              "      <td>842150</td>\n",
              "      <td>1015325</td>\n",
              "      <td>1114</td>\n",
              "      <td>31</td>\n",
              "      <td>27508</td>\n",
              "      <td>3745</td>\n",
              "      <td>True</td>\n",
              "      <td>True</td>\n",
              "      <td>0</td>\n",
              "      <td>True</td>\n",
              "      <td>a</td>\n",
              "      <td>c</td>\n",
              "      <td>...</td>\n",
              "      <td>2015</td>\n",
              "      <td>7</td>\n",
              "      <td>31</td>\n",
              "      <td>4</td>\n",
              "      <td>212</td>\n",
              "      <td>True</td>\n",
              "      <td>False</td>\n",
              "      <td>False</td>\n",
              "      <td>False</td>\n",
              "      <td>False</td>\n",
              "      <td>False</td>\n",
              "      <td>1438300800</td>\n",
              "    </tr>\n",
              "    <tr>\n",
              "      <th>842151</th>\n",
              "      <td>842151</td>\n",
              "      <td>1016267</td>\n",
              "      <td>1115</td>\n",
              "      <td>31</td>\n",
              "      <td>8680</td>\n",
              "      <td>538</td>\n",
              "      <td>True</td>\n",
              "      <td>True</td>\n",
              "      <td>0</td>\n",
              "      <td>True</td>\n",
              "      <td>d</td>\n",
              "      <td>c</td>\n",
              "      <td>...</td>\n",
              "      <td>2015</td>\n",
              "      <td>7</td>\n",
              "      <td>31</td>\n",
              "      <td>4</td>\n",
              "      <td>212</td>\n",
              "      <td>True</td>\n",
              "      <td>False</td>\n",
              "      <td>False</td>\n",
              "      <td>False</td>\n",
              "      <td>False</td>\n",
              "      <td>False</td>\n",
              "      <td>1438300800</td>\n",
              "    </tr>\n",
              "  </tbody>\n",
              "</table>\n",
              "<p>842152 rows × 29 columns</p>\n",
              "</div>"
            ],
            "text/plain": [
              "        level_0    index  Store  Week  Sales  Customers  Open  Promo  \\\n",
              "0             0    77677     85     1   4220        619  True  False   \n",
              "1             1   235513    259     1   6851       1444  True  False   \n",
              "2             2   238339    262     1  17267       2875  True  False   \n",
              "3             3   249459    274     1   3102        729  True  False   \n",
              "4             4   305081    335     1   2401        482  True  False   \n",
              "...         ...      ...    ...   ...    ...        ...   ...    ...   \n",
              "842147   842147  1012499   1111    31   5723        422  True   True   \n",
              "842148   842148  1013441   1112    31   9626        767  True   True   \n",
              "842149   842149  1014383   1113    31   7289        720  True   True   \n",
              "842150   842150  1015325   1114    31  27508       3745  True   True   \n",
              "842151   842151  1016267   1115    31   8680        538  True   True   \n",
              "\n",
              "       StateHoliday  SchoolHoliday StoreType Assortment  ...  Year  Month  \\\n",
              "0                 a           True         b          a  ...  2013      1   \n",
              "1                 a           True         b          b  ...  2013      1   \n",
              "2                 a           True         b          a  ...  2013      1   \n",
              "3                 a           True         b          b  ...  2013      1   \n",
              "4                 a           True         b          a  ...  2013      1   \n",
              "...             ...            ...       ...        ...  ...   ...    ...   \n",
              "842147            0           True         a          a  ...  2015      7   \n",
              "842148            0           True         c          c  ...  2015      7   \n",
              "842149            0           True         a          c  ...  2015      7   \n",
              "842150            0           True         a          c  ...  2015      7   \n",
              "842151            0           True         d          c  ...  2015      7   \n",
              "\n",
              "        Day  Dayofweek Dayofyear  Is_month_end  Is_month_start  \\\n",
              "0         1          1         1         False            True   \n",
              "1         1          1         1         False            True   \n",
              "2         1          1         1         False            True   \n",
              "3         1          1         1         False            True   \n",
              "4         1          1         1         False            True   \n",
              "...     ...        ...       ...           ...             ...   \n",
              "842147   31          4       212          True           False   \n",
              "842148   31          4       212          True           False   \n",
              "842149   31          4       212          True           False   \n",
              "842150   31          4       212          True           False   \n",
              "842151   31          4       212          True           False   \n",
              "\n",
              "        Is_quarter_end  Is_quarter_start  Is_year_end  Is_year_start  \\\n",
              "0                False              True        False           True   \n",
              "1                False              True        False           True   \n",
              "2                False              True        False           True   \n",
              "3                False              True        False           True   \n",
              "4                False              True        False           True   \n",
              "...                ...               ...          ...            ...   \n",
              "842147           False             False        False          False   \n",
              "842148           False             False        False          False   \n",
              "842149           False             False        False          False   \n",
              "842150           False             False        False          False   \n",
              "842151           False             False        False          False   \n",
              "\n",
              "           Elapsed  \n",
              "0       1356998400  \n",
              "1       1356998400  \n",
              "2       1356998400  \n",
              "3       1356998400  \n",
              "4       1356998400  \n",
              "...            ...  \n",
              "842147  1438300800  \n",
              "842148  1438300800  \n",
              "842149  1438300800  \n",
              "842150  1438300800  \n",
              "842151  1438300800  \n",
              "\n",
              "[842152 rows x 29 columns]"
            ]
          },
          "metadata": {
            "tags": []
          },
          "execution_count": 270
        }
      ]
    },
    {
      "cell_type": "code",
      "metadata": {
        "colab": {
          "base_uri": "https://localhost:8080/"
        },
        "id": "9L6dH9ak68x7",
        "outputId": "2df0cad6-a922-486c-ce75-b97f5d00e850"
      },
      "source": [
        "842152 * 0.75"
      ],
      "execution_count": null,
      "outputs": [
        {
          "output_type": "execute_result",
          "data": {
            "text/plain": [
              "631614.0"
            ]
          },
          "metadata": {
            "tags": []
          },
          "execution_count": 271
        }
      ]
    },
    {
      "cell_type": "code",
      "metadata": {
        "id": "Km3bbzMR6Zly"
      },
      "source": [
        "#cond = (train.Sales<2011) | (df.saleMonth<10)\n",
        "#train_idx = np.where( cond)[0]\n",
        "#valid_idx = np.where(~cond)[0]\n",
        "\n",
        "splits = (list(range(631614)),list(range(631614,842152 )) )"
      ],
      "execution_count": null,
      "outputs": []
    },
    {
      "cell_type": "markdown",
      "metadata": {
        "id": "G5bB9G7C_tuq"
      },
      "source": [
        "Before we split, let's look at cardinalities of categorical variable"
      ]
    },
    {
      "cell_type": "code",
      "metadata": {
        "colab": {
          "base_uri": "https://localhost:8080/"
        },
        "id": "Llvp9vaT-Np8",
        "outputId": "1251c4ef-4059-4a5b-e02f-c4f028122643"
      },
      "source": [
        "train.nunique().head(20)"
      ],
      "execution_count": null,
      "outputs": [
        {
          "output_type": "execute_result",
          "data": {
            "text/plain": [
              "level_0                842152\n",
              "index                  842152\n",
              "Store                    1112\n",
              "Week                       52\n",
              "Sales                   21732\n",
              "Customers                4083\n",
              "Open                        1\n",
              "Promo                       2\n",
              "StateHoliday                4\n",
              "SchoolHoliday               2\n",
              "StoreType                   4\n",
              "Assortment                  3\n",
              "CompetitionDistance       654\n",
              "Promo2                      2\n",
              "Promo2SinceWeek            24\n",
              "Promo2SinceYear             7\n",
              "PromoInterval               3\n",
              "Year                        3\n",
              "Month                      12\n",
              "Day                        31\n",
              "dtype: int64"
            ]
          },
          "metadata": {
            "tags": []
          },
          "execution_count": 288
        }
      ]
    },
    {
      "cell_type": "code",
      "metadata": {
        "colab": {
          "base_uri": "https://localhost:8080/"
        },
        "id": "yqmhjc7bA-Cg",
        "outputId": "22c4ae21-ad85-41b5-ffc0-fd7f0b98b633"
      },
      "source": [
        "train.info()"
      ],
      "execution_count": null,
      "outputs": [
        {
          "output_type": "stream",
          "text": [
            "<class 'pandas.core.frame.DataFrame'>\n",
            "RangeIndex: 842152 entries, 0 to 842151\n",
            "Data columns (total 29 columns):\n",
            " #   Column               Non-Null Count   Dtype  \n",
            "---  ------               --------------   -----  \n",
            " 0   level_0              842152 non-null  int64  \n",
            " 1   index                842152 non-null  int64  \n",
            " 2   Store                842152 non-null  int64  \n",
            " 3   Week                 842152 non-null  UInt32 \n",
            " 4   Sales                842152 non-null  int64  \n",
            " 5   Customers            842152 non-null  int64  \n",
            " 6   Open                 842152 non-null  bool   \n",
            " 7   Promo                842152 non-null  bool   \n",
            " 8   StateHoliday         842152 non-null  object \n",
            " 9   SchoolHoliday        842152 non-null  bool   \n",
            " 10  StoreType            842152 non-null  object \n",
            " 11  Assortment           842152 non-null  object \n",
            " 12  CompetitionDistance  842152 non-null  float64\n",
            " 13  Promo2               842152 non-null  bool   \n",
            " 14  Promo2SinceWeek      420424 non-null  Int64  \n",
            " 15  Promo2SinceYear      420424 non-null  Int64  \n",
            " 16  PromoInterval        420424 non-null  object \n",
            " 17  Year                 842152 non-null  int64  \n",
            " 18  Month                842152 non-null  int64  \n",
            " 19  Day                  842152 non-null  int64  \n",
            " 20  Dayofweek            842152 non-null  int64  \n",
            " 21  Dayofyear            842152 non-null  int64  \n",
            " 22  Is_month_end         842152 non-null  bool   \n",
            " 23  Is_month_start       842152 non-null  bool   \n",
            " 24  Is_quarter_end       842152 non-null  bool   \n",
            " 25  Is_quarter_start     842152 non-null  bool   \n",
            " 26  Is_year_end          842152 non-null  bool   \n",
            " 27  Is_year_start        842152 non-null  bool   \n",
            " 28  Elapsed              842152 non-null  object \n",
            "dtypes: Int64(2), UInt32(1), bool(10), float64(1), int64(10), object(5)\n",
            "memory usage: 129.3+ MB\n"
          ],
          "name": "stdout"
        }
      ]
    },
    {
      "cell_type": "markdown",
      "metadata": {
        "id": "CpwD29s2_zeq"
      },
      "source": [
        "We have more distinct values for Store than for CompetitionDistance. so we will cut off at 600 and move Store from cont to cat. But first we have to cast 'UInt32' to 'int64' because adddatepart gave of Week in that format, and cont_ct_split cannot interpret it"
      ]
    },
    {
      "cell_type": "code",
      "metadata": {
        "id": "O89qryxnBQW1"
      },
      "source": [
        "train['Week'] = train['Week'].astype('int64')"
      ],
      "execution_count": null,
      "outputs": []
    },
    {
      "cell_type": "code",
      "metadata": {
        "id": "Wv2D1dw0Bo0U"
      },
      "source": [
        "for col in ['Promo2SinceWeek', 'Promo2SinceYear']:\n",
        "  train[col]=stores[col].astype('float64', copy=False, errors='ignore')\n",
        "\n",
        "  #also have to cast this one back, too bad"
      ],
      "execution_count": null,
      "outputs": []
    },
    {
      "cell_type": "code",
      "metadata": {
        "id": "cNXj9VWM-LYX"
      },
      "source": [
        "dep_var = 'Sales'\n",
        "cont,cat = cont_cat_split(train, max_card=600, dep_var=dep_var)"
      ],
      "execution_count": null,
      "outputs": []
    },
    {
      "cell_type": "code",
      "metadata": {
        "id": "cWtFAjvm-2ia"
      },
      "source": [
        "cat.append('Store')\n",
        "cont.remove('Store')"
      ],
      "execution_count": null,
      "outputs": []
    },
    {
      "cell_type": "code",
      "metadata": {
        "id": "Mz-X-Y5RB3i1"
      },
      "source": [
        "to = TabularPandas(train, procs, cat, cont, y_names=dep_var, splits=splits)"
      ],
      "execution_count": null,
      "outputs": []
    },
    {
      "cell_type": "code",
      "metadata": {
        "colab": {
          "base_uri": "https://localhost:8080/"
        },
        "id": "QpEsq_cyCL6B",
        "outputId": "265999c9-e9a5-479f-b2a9-7ed942e9be4c"
      },
      "source": [
        "len(to.train),len(to.valid)"
      ],
      "execution_count": null,
      "outputs": [
        {
          "output_type": "execute_result",
          "data": {
            "text/plain": [
              "(631614, 210538)"
            ]
          },
          "metadata": {
            "tags": []
          },
          "execution_count": 298
        }
      ]
    },
    {
      "cell_type": "code",
      "metadata": {
        "id": "EQoGC7JFCfJc"
      },
      "source": [
        "save_pickle(path/'to.pkl',to)"
      ],
      "execution_count": null,
      "outputs": []
    },
    {
      "cell_type": "markdown",
      "metadata": {
        "id": "lwzb-pmyConj"
      },
      "source": [
        "Create a Random Forest, as in the lesson"
      ]
    },
    {
      "cell_type": "code",
      "metadata": {
        "id": "MLCYcDvhC9Rc"
      },
      "source": [
        "# Function to create random forests\n",
        "\n",
        "def rf(xs, y, n_estimators=40, max_samples=200_000,\n",
        "       max_features=0.5, min_samples_leaf=5, **kwargs):\n",
        "    return RandomForestRegressor(n_jobs=-1, n_estimators=n_estimators,\n",
        "        max_samples=max_samples, max_features=max_features,\n",
        "        min_samples_leaf=min_samples_leaf, oob_score=True).fit(xs, y)"
      ],
      "execution_count": null,
      "outputs": []
    },
    {
      "cell_type": "code",
      "metadata": {
        "id": "Cy5KAuK0Dovh"
      },
      "source": [
        "#Define loss function:\n",
        "\n",
        "def r_mse(pred,y): return round(math.sqrt(((pred-y)**2).mean()), 6)\n",
        "def m_rmse(m, xs, y): return r_mse(m.predict(xs), y)"
      ],
      "execution_count": null,
      "outputs": []
    },
    {
      "cell_type": "code",
      "metadata": {
        "id": "G15gIhF5C-9y"
      },
      "source": [
        "xs,y = to.train.xs,to.train.y\n",
        "valid_xs,valid_y = to.valid.xs,to.valid.y"
      ],
      "execution_count": null,
      "outputs": []
    },
    {
      "cell_type": "code",
      "metadata": {
        "id": "IKxA6H2fC-06"
      },
      "source": [
        "m = rf(xs, y);"
      ],
      "execution_count": null,
      "outputs": []
    },
    {
      "cell_type": "code",
      "metadata": {
        "colab": {
          "base_uri": "https://localhost:8080/"
        },
        "id": "sHkesi6JC-p9",
        "outputId": "41ad9b39-e27b-4234-c1eb-c3cd0d57e9d9"
      },
      "source": [
        "m_rmse(m, xs, y), m_rmse(m, valid_xs, valid_y)"
      ],
      "execution_count": null,
      "outputs": [
        {
          "output_type": "execute_result",
          "data": {
            "text/plain": [
              "(516.694889, 730.340392)"
            ]
          },
          "metadata": {
            "tags": []
          },
          "execution_count": 304
        }
      ]
    },
    {
      "cell_type": "markdown",
      "metadata": {
        "id": "RrZUJKQGEoQq"
      },
      "source": [
        "Compare with Out of Bag error"
      ]
    },
    {
      "cell_type": "code",
      "metadata": {
        "colab": {
          "base_uri": "https://localhost:8080/"
        },
        "id": "iDHnVJySC97U",
        "outputId": "40a874ce-6457-41c4-ded5-099776b67532"
      },
      "source": [
        "r_mse(m.oob_prediction_, y)"
      ],
      "execution_count": null,
      "outputs": [
        {
          "output_type": "execute_result",
          "data": {
            "text/plain": [
              "587.33835"
            ]
          },
          "metadata": {
            "tags": []
          },
          "execution_count": 305
        }
      ]
    },
    {
      "cell_type": "markdown",
      "metadata": {
        "id": "d5H8m6sVC9p0"
      },
      "source": [
        "Much lower than validation loss !"
      ]
    },
    {
      "cell_type": "markdown",
      "metadata": {
        "id": "L3ypyMKYE5TI"
      },
      "source": [
        "Now let's look at Feature Importance"
      ]
    },
    {
      "cell_type": "code",
      "metadata": {
        "id": "jehzZwniE5y7"
      },
      "source": [
        "def rf_feat_importance(m, df):\n",
        "    return pd.DataFrame({'cols':df.columns, 'imp':m.feature_importances_}\n",
        "                       ).sort_values('imp', ascending=False)"
      ],
      "execution_count": null,
      "outputs": []
    },
    {
      "cell_type": "code",
      "metadata": {
        "colab": {
          "base_uri": "https://localhost:8080/",
          "height": 519
        },
        "id": "_No8pxhFGTon",
        "outputId": "0396c414-262d-474b-92a2-f6c1a681fcd3"
      },
      "source": [
        "fi = rf_feat_importance(m, xs)\n",
        "fi[0:15]"
      ],
      "execution_count": null,
      "outputs": [
        {
          "output_type": "execute_result",
          "data": {
            "text/html": [
              "<div>\n",
              "<style scoped>\n",
              "    .dataframe tbody tr th:only-of-type {\n",
              "        vertical-align: middle;\n",
              "    }\n",
              "\n",
              "    .dataframe tbody tr th {\n",
              "        vertical-align: top;\n",
              "    }\n",
              "\n",
              "    .dataframe thead th {\n",
              "        text-align: right;\n",
              "    }\n",
              "</style>\n",
              "<table border=\"1\" class=\"dataframe\">\n",
              "  <thead>\n",
              "    <tr style=\"text-align: right;\">\n",
              "      <th></th>\n",
              "      <th>cols</th>\n",
              "      <th>imp</th>\n",
              "    </tr>\n",
              "  </thead>\n",
              "  <tbody>\n",
              "    <tr>\n",
              "      <th>26</th>\n",
              "      <td>Customers</td>\n",
              "      <td>0.702803</td>\n",
              "    </tr>\n",
              "    <tr>\n",
              "      <th>2</th>\n",
              "      <td>Promo</td>\n",
              "      <td>0.077902</td>\n",
              "    </tr>\n",
              "    <tr>\n",
              "      <th>27</th>\n",
              "      <td>CompetitionDistance</td>\n",
              "      <td>0.051491</td>\n",
              "    </tr>\n",
              "    <tr>\n",
              "      <th>5</th>\n",
              "      <td>StoreType</td>\n",
              "      <td>0.042218</td>\n",
              "    </tr>\n",
              "    <tr>\n",
              "      <th>25</th>\n",
              "      <td>index</td>\n",
              "      <td>0.029161</td>\n",
              "    </tr>\n",
              "    <tr>\n",
              "      <th>21</th>\n",
              "      <td>Store</td>\n",
              "      <td>0.024056</td>\n",
              "    </tr>\n",
              "    <tr>\n",
              "      <th>12</th>\n",
              "      <td>Dayofweek</td>\n",
              "      <td>0.018580</td>\n",
              "    </tr>\n",
              "    <tr>\n",
              "      <th>6</th>\n",
              "      <td>Assortment</td>\n",
              "      <td>0.017667</td>\n",
              "    </tr>\n",
              "    <tr>\n",
              "      <th>8</th>\n",
              "      <td>PromoInterval</td>\n",
              "      <td>0.008367</td>\n",
              "    </tr>\n",
              "    <tr>\n",
              "      <th>13</th>\n",
              "      <td>Dayofyear</td>\n",
              "      <td>0.006970</td>\n",
              "    </tr>\n",
              "    <tr>\n",
              "      <th>0</th>\n",
              "      <td>Week</td>\n",
              "      <td>0.005305</td>\n",
              "    </tr>\n",
              "    <tr>\n",
              "      <th>11</th>\n",
              "      <td>Day</td>\n",
              "      <td>0.004041</td>\n",
              "    </tr>\n",
              "    <tr>\n",
              "      <th>7</th>\n",
              "      <td>Promo2</td>\n",
              "      <td>0.003638</td>\n",
              "    </tr>\n",
              "    <tr>\n",
              "      <th>24</th>\n",
              "      <td>level_0</td>\n",
              "      <td>0.002933</td>\n",
              "    </tr>\n",
              "    <tr>\n",
              "      <th>20</th>\n",
              "      <td>Elapsed</td>\n",
              "      <td>0.001979</td>\n",
              "    </tr>\n",
              "  </tbody>\n",
              "</table>\n",
              "</div>"
            ],
            "text/plain": [
              "                   cols       imp\n",
              "26            Customers  0.702803\n",
              "2                 Promo  0.077902\n",
              "27  CompetitionDistance  0.051491\n",
              "5             StoreType  0.042218\n",
              "25                index  0.029161\n",
              "21                Store  0.024056\n",
              "12            Dayofweek  0.018580\n",
              "6            Assortment  0.017667\n",
              "8         PromoInterval  0.008367\n",
              "13            Dayofyear  0.006970\n",
              "0                  Week  0.005305\n",
              "11                  Day  0.004041\n",
              "7                Promo2  0.003638\n",
              "24              level_0  0.002933\n",
              "20              Elapsed  0.001979"
            ]
          },
          "metadata": {
            "tags": []
          },
          "execution_count": 309
        }
      ]
    },
    {
      "cell_type": "code",
      "metadata": {
        "colab": {
          "base_uri": "https://localhost:8080/",
          "height": 567
        },
        "id": "a48-aJVcGTiI",
        "outputId": "4755fea9-b599-4671-bc98-dd262ffbdf02"
      },
      "source": [
        "def plot_fi(fi):\n",
        "    return fi.plot('cols', 'imp', 'bar', figsize=(12,7), legend=False)\n",
        "\n",
        "plot_fi(fi[:30]);"
      ],
      "execution_count": null,
      "outputs": [
        {
          "output_type": "display_data",
          "data": {
            "image/png": "[encoded data removed]",
            "text/plain": [
              "<Figure size 864x504 with 1 Axes>"
            ]
          },
          "metadata": {
            "tags": [],
            "needs_background": "light"
          }
        }
      ]
    },
    {
      "cell_type": "markdown",
      "metadata": {
        "id": "xGTRc2z_GTYr"
      },
      "source": [
        "Problem! Data Leakage\n",
        "\n",
        "Customers is suspisiously important and explanatory of Sales.\n",
        "Thinking about it, these must be highly correlated:\n",
        "If you have few customers you will have few sales, and if you have many customers, you will probably have more Sales\n",
        "A look at to Sales and Customers columns on the Kaggle page shows that they are close to proportional."
      ]
    },
    {
      "cell_type": "markdown",
      "metadata": {
        "id": "xNBVcUS7GTMV"
      },
      "source": [
        "We should therefore take customers out of the independent variables and redo the steps"
      ]
    },
    {
      "cell_type": "code",
      "metadata": {
        "id": "bJhP7zMyHrM5"
      },
      "source": [
        "xs_trimmed = xs.drop('Customers', axis =1)\n",
        "valid_xs_trimmed = valid_xs.drop('Customers', axis =1)"
      ],
      "execution_count": null,
      "outputs": []
    },
    {
      "cell_type": "code",
      "metadata": {
        "id": "LxrxGiMoHro8"
      },
      "source": [
        "m_trim = rf(xs_trimmed, y);"
      ],
      "execution_count": null,
      "outputs": []
    },
    {
      "cell_type": "code",
      "metadata": {
        "colab": {
          "base_uri": "https://localhost:8080/"
        },
        "id": "9ItTeSi5IEiR",
        "outputId": "eb4ec9dc-1df0-48f8-9a19-3605b74312a6"
      },
      "source": [
        "m_rmse(m_trim, xs_trimmed, y), m_rmse(m_trim, valid_xs_trimmed, valid_y)"
      ],
      "execution_count": null,
      "outputs": [
        {
          "output_type": "execute_result",
          "data": {
            "text/plain": [
              "(1045.536053, 1421.335061)"
            ]
          },
          "metadata": {
            "tags": []
          },
          "execution_count": 315
        }
      ]
    },
    {
      "cell_type": "code",
      "metadata": {
        "colab": {
          "base_uri": "https://localhost:8080/"
        },
        "id": "fQu8H1KKIEMF",
        "outputId": "55b5c4b7-aeeb-4f67-d8cf-4a0f50aa068a"
      },
      "source": [
        "r_mse(m_trim.oob_prediction_, y)"
      ],
      "execution_count": null,
      "outputs": [
        {
          "output_type": "execute_result",
          "data": {
            "text/plain": [
              "1165.809712"
            ]
          },
          "metadata": {
            "tags": []
          },
          "execution_count": 316
        }
      ]
    },
    {
      "cell_type": "code",
      "metadata": {
        "colab": {
          "base_uri": "https://localhost:8080/",
          "height": 519
        },
        "id": "eAekqLI9ID_p",
        "outputId": "99a7616d-0bdd-44d7-e326-9f3610efd369"
      },
      "source": [
        "fi_trim = rf_feat_importance(m_trim, xs_trimmed)\n",
        "fi_trim[0:15]"
      ],
      "execution_count": null,
      "outputs": [
        {
          "output_type": "execute_result",
          "data": {
            "text/html": [
              "<div>\n",
              "<style scoped>\n",
              "    .dataframe tbody tr th:only-of-type {\n",
              "        vertical-align: middle;\n",
              "    }\n",
              "\n",
              "    .dataframe tbody tr th {\n",
              "        vertical-align: top;\n",
              "    }\n",
              "\n",
              "    .dataframe thead th {\n",
              "        text-align: right;\n",
              "    }\n",
              "</style>\n",
              "<table border=\"1\" class=\"dataframe\">\n",
              "  <thead>\n",
              "    <tr style=\"text-align: right;\">\n",
              "      <th></th>\n",
              "      <th>cols</th>\n",
              "      <th>imp</th>\n",
              "    </tr>\n",
              "  </thead>\n",
              "  <tbody>\n",
              "    <tr>\n",
              "      <th>26</th>\n",
              "      <td>CompetitionDistance</td>\n",
              "      <td>0.223940</td>\n",
              "    </tr>\n",
              "    <tr>\n",
              "      <th>25</th>\n",
              "      <td>index</td>\n",
              "      <td>0.185655</td>\n",
              "    </tr>\n",
              "    <tr>\n",
              "      <th>21</th>\n",
              "      <td>Store</td>\n",
              "      <td>0.159510</td>\n",
              "    </tr>\n",
              "    <tr>\n",
              "      <th>2</th>\n",
              "      <td>Promo</td>\n",
              "      <td>0.153131</td>\n",
              "    </tr>\n",
              "    <tr>\n",
              "      <th>12</th>\n",
              "      <td>Dayofweek</td>\n",
              "      <td>0.064441</td>\n",
              "    </tr>\n",
              "    <tr>\n",
              "      <th>5</th>\n",
              "      <td>StoreType</td>\n",
              "      <td>0.042632</td>\n",
              "    </tr>\n",
              "    <tr>\n",
              "      <th>6</th>\n",
              "      <td>Assortment</td>\n",
              "      <td>0.029455</td>\n",
              "    </tr>\n",
              "    <tr>\n",
              "      <th>8</th>\n",
              "      <td>PromoInterval</td>\n",
              "      <td>0.024428</td>\n",
              "    </tr>\n",
              "    <tr>\n",
              "      <th>13</th>\n",
              "      <td>Dayofyear</td>\n",
              "      <td>0.024260</td>\n",
              "    </tr>\n",
              "    <tr>\n",
              "      <th>24</th>\n",
              "      <td>level_0</td>\n",
              "      <td>0.020906</td>\n",
              "    </tr>\n",
              "    <tr>\n",
              "      <th>11</th>\n",
              "      <td>Day</td>\n",
              "      <td>0.020484</td>\n",
              "    </tr>\n",
              "    <tr>\n",
              "      <th>0</th>\n",
              "      <td>Week</td>\n",
              "      <td>0.017593</td>\n",
              "    </tr>\n",
              "    <tr>\n",
              "      <th>7</th>\n",
              "      <td>Promo2</td>\n",
              "      <td>0.012709</td>\n",
              "    </tr>\n",
              "    <tr>\n",
              "      <th>20</th>\n",
              "      <td>Elapsed</td>\n",
              "      <td>0.007958</td>\n",
              "    </tr>\n",
              "    <tr>\n",
              "      <th>10</th>\n",
              "      <td>Month</td>\n",
              "      <td>0.005553</td>\n",
              "    </tr>\n",
              "  </tbody>\n",
              "</table>\n",
              "</div>"
            ],
            "text/plain": [
              "                   cols       imp\n",
              "26  CompetitionDistance  0.223940\n",
              "25                index  0.185655\n",
              "21                Store  0.159510\n",
              "2                 Promo  0.153131\n",
              "12            Dayofweek  0.064441\n",
              "5             StoreType  0.042632\n",
              "6            Assortment  0.029455\n",
              "8         PromoInterval  0.024428\n",
              "13            Dayofyear  0.024260\n",
              "24              level_0  0.020906\n",
              "11                  Day  0.020484\n",
              "0                  Week  0.017593\n",
              "7                Promo2  0.012709\n",
              "20              Elapsed  0.007958\n",
              "10                Month  0.005553"
            ]
          },
          "metadata": {
            "tags": []
          },
          "execution_count": 317
        }
      ]
    },
    {
      "cell_type": "code",
      "metadata": {
        "colab": {
          "base_uri": "https://localhost:8080/",
          "height": 567
        },
        "id": "6KEcQAG-Hr7e",
        "outputId": "a45cbb8f-5a69-4bb4-f60f-9b17e2678d62"
      },
      "source": [
        "plot_fi(fi_trim[:30]);"
      ],
      "execution_count": null,
      "outputs": [
        {
          "output_type": "display_data",
          "data": {
            "image/png": "[encoded data removed]",
            "text/plain": [
              "<Figure size 864x504 with 1 Axes>"
            ]
          },
          "metadata": {
            "tags": [],
            "needs_background": "light"
          }
        }
      ]
    },
    {
      "cell_type": "markdown",
      "metadata": {
        "id": "4Hsbl2rgI6_c"
      },
      "source": [
        "That's more like it!"
      ]
    }
  ]
}