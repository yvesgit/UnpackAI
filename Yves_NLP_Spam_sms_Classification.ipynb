{
  "nbformat": 4,
  "nbformat_minor": 0,
  "metadata": {
    "accelerator": "GPU",
    "colab": {
      "name": "Yves - NLP - Spam sms Classification.ipynb",
      "provenance": [],
      "collapsed_sections": [],
      "authorship_tag": "ABX9TyP8cxaIQASMbZ02WqkMnuQb",
      "include_colab_link": true
    },
    "kernelspec": {
      "display_name": "Python 3",
      "name": "python3"
    }
  },
  "cells": [
    {
      "cell_type": "markdown",
      "metadata": {
        "id": "view-in-github",
        "colab_type": "text"
      },
      "source": [
        "<a href=\"https://colab.research.google.com/github/yvesgit/UnpackAI/blob/main/Yves_NLP_Spam_sms_Classification.ipynb\" target=\"_parent\"><img src=\"https://colab.research.google.com/assets/colab-badge.svg\" alt=\"Open In Colab\"/></a>"
      ]
    },
    {
      "cell_type": "markdown",
      "metadata": {
        "id": "9HoE9Yks1su8"
      },
      "source": [
        "# Setup"
      ]
    },
    {
      "cell_type": "code",
      "metadata": {
        "colab": {
          "base_uri": "https://localhost:8080/"
        },
        "id": "QE7OuHIz9oa1",
        "outputId": "a56cfc5e-1bb6-4711-a040-2e751827366c"
      },
      "source": [
        "#hide\n",
        "!pip install -Uqq fastbook\n",
        "import fastbook\n",
        "fastbook.setup_book()"
      ],
      "execution_count": null,
      "outputs": [
        {
          "output_type": "stream",
          "text": [
            "\u001b[K     |████████████████████████████████| 727kB 8.1MB/s \n",
            "\u001b[K     |████████████████████████████████| 1.2MB 18.5MB/s \n",
            "\u001b[K     |████████████████████████████████| 51kB 9.0MB/s \n",
            "\u001b[K     |████████████████████████████████| 194kB 47.3MB/s \n",
            "\u001b[K     |████████████████████████████████| 61kB 8.5MB/s \n",
            "\u001b[?25hMounted at /content/gdrive\n"
          ],
          "name": "stdout"
        }
      ]
    },
    {
      "cell_type": "code",
      "metadata": {
        "id": "3wTTo_7U9q4_"
      },
      "source": [
        "#hide\n",
        "from fastbook import *\n",
        "from IPython.display import display,HTML"
      ],
      "execution_count": null,
      "outputs": []
    },
    {
      "cell_type": "code",
      "metadata": {
        "id": "mQTm5i5V-IVL"
      },
      "source": [
        "from fastai.text.all import *"
      ],
      "execution_count": null,
      "outputs": []
    },
    {
      "cell_type": "markdown",
      "metadata": {
        "id": "_zWhsj9L1y02"
      },
      "source": [
        "# Acquire data"
      ]
    },
    {
      "cell_type": "code",
      "metadata": {
        "id": "UJwHWoX0avYn"
      },
      "source": [
        "df = pd.read_csv('/content/gdrive/MyDrive/Data/spam.csv',  header = 0, encoding='ISO-8859-1', usecols=[0, 1] , names = ['hamorspam', 'sms'])[['sms', 'hamorspam']]"
      ],
      "execution_count": null,
      "outputs": []
    },
    {
      "cell_type": "code",
      "metadata": {
        "colab": {
          "base_uri": "https://localhost:8080/",
          "height": 457
        },
        "id": "lqYJfr7IcKMG",
        "outputId": "1ae94770-4e83-452e-ce89-645050b812ed"
      },
      "source": [
        "df.head(13)"
      ],
      "execution_count": null,
      "outputs": [
        {
          "output_type": "execute_result",
          "data": {
            "text/html": [
              "<div>\n",
              "<style scoped>\n",
              "    .dataframe tbody tr th:only-of-type {\n",
              "        vertical-align: middle;\n",
              "    }\n",
              "\n",
              "    .dataframe tbody tr th {\n",
              "        vertical-align: top;\n",
              "    }\n",
              "\n",
              "    .dataframe thead th {\n",
              "        text-align: right;\n",
              "    }\n",
              "</style>\n",
              "<table border=\"1\" class=\"dataframe\">\n",
              "  <thead>\n",
              "    <tr style=\"text-align: right;\">\n",
              "      <th></th>\n",
              "      <th>sms</th>\n",
              "      <th>hamorspam</th>\n",
              "    </tr>\n",
              "  </thead>\n",
              "  <tbody>\n",
              "    <tr>\n",
              "      <th>0</th>\n",
              "      <td>Go until jurong point, crazy.. Available only in bugis n great world la e buffet... Cine there got amore wat...</td>\n",
              "      <td>ham</td>\n",
              "    </tr>\n",
              "    <tr>\n",
              "      <th>1</th>\n",
              "      <td>Ok lar... Joking wif u oni...</td>\n",
              "      <td>ham</td>\n",
              "    </tr>\n",
              "    <tr>\n",
              "      <th>2</th>\n",
              "      <td>Free entry in 2 a wkly comp to win FA Cup final tkts 21st May 2005. Text FA to 87121 to receive entry question(std txt rate)T&amp;C's apply 08452810075over18's</td>\n",
              "      <td>spam</td>\n",
              "    </tr>\n",
              "    <tr>\n",
              "      <th>3</th>\n",
              "      <td>U dun say so early hor... U c already then say...</td>\n",
              "      <td>ham</td>\n",
              "    </tr>\n",
              "    <tr>\n",
              "      <th>4</th>\n",
              "      <td>Nah I don't think he goes to usf, he lives around here though</td>\n",
              "      <td>ham</td>\n",
              "    </tr>\n",
              "    <tr>\n",
              "      <th>5</th>\n",
              "      <td>FreeMsg Hey there darling it's been 3 week's now and no word back! I'd like some fun you up for it still? Tb ok! XxX std chgs to send, å£1.50 to rcv</td>\n",
              "      <td>spam</td>\n",
              "    </tr>\n",
              "    <tr>\n",
              "      <th>6</th>\n",
              "      <td>Even my brother is not like to speak with me. They treat me like aids patent.</td>\n",
              "      <td>ham</td>\n",
              "    </tr>\n",
              "    <tr>\n",
              "      <th>7</th>\n",
              "      <td>As per your request 'Melle Melle (Oru Minnaminunginte Nurungu Vettam)' has been set as your callertune for all Callers. Press *9 to copy your friends Callertune</td>\n",
              "      <td>ham</td>\n",
              "    </tr>\n",
              "    <tr>\n",
              "      <th>8</th>\n",
              "      <td>WINNER!! As a valued network customer you have been selected to receivea å£900 prize reward! To claim call 09061701461. Claim code KL341. Valid 12 hours only.</td>\n",
              "      <td>spam</td>\n",
              "    </tr>\n",
              "    <tr>\n",
              "      <th>9</th>\n",
              "      <td>Had your mobile 11 months or more? U R entitled to Update to the latest colour mobiles with camera for Free! Call The Mobile Update Co FREE on 08002986030</td>\n",
              "      <td>spam</td>\n",
              "    </tr>\n",
              "    <tr>\n",
              "      <th>10</th>\n",
              "      <td>I'm gonna be home soon and i don't want to talk about this stuff anymore tonight, k? I've cried enough today.</td>\n",
              "      <td>ham</td>\n",
              "    </tr>\n",
              "    <tr>\n",
              "      <th>11</th>\n",
              "      <td>SIX chances to win CASH! From 100 to 20,000 pounds txt&gt; CSH11 and send to 87575. Cost 150p/day, 6days, 16+ TsandCs apply Reply HL 4 info</td>\n",
              "      <td>spam</td>\n",
              "    </tr>\n",
              "    <tr>\n",
              "      <th>12</th>\n",
              "      <td>URGENT! You have won a 1 week FREE membership in our å£100,000 Prize Jackpot! Txt the word: CLAIM to No: 81010 T&amp;C www.dbuk.net LCCLTD POBOX 4403LDNW1A7RW18</td>\n",
              "      <td>spam</td>\n",
              "    </tr>\n",
              "  </tbody>\n",
              "</table>\n",
              "</div>"
            ],
            "text/plain": [
              "                                                                                                                                                                 sms  \\\n",
              "0                                                    Go until jurong point, crazy.. Available only in bugis n great world la e buffet... Cine there got amore wat...   \n",
              "1                                                                                                                                      Ok lar... Joking wif u oni...   \n",
              "2        Free entry in 2 a wkly comp to win FA Cup final tkts 21st May 2005. Text FA to 87121 to receive entry question(std txt rate)T&C's apply 08452810075over18's   \n",
              "3                                                                                                                  U dun say so early hor... U c already then say...   \n",
              "4                                                                                                      Nah I don't think he goes to usf, he lives around here though   \n",
              "5               FreeMsg Hey there darling it's been 3 week's now and no word back! I'd like some fun you up for it still? Tb ok! XxX std chgs to send, å£1.50 to rcv   \n",
              "6                                                                                      Even my brother is not like to speak with me. They treat me like aids patent.   \n",
              "7   As per your request 'Melle Melle (Oru Minnaminunginte Nurungu Vettam)' has been set as your callertune for all Callers. Press *9 to copy your friends Callertune   \n",
              "8     WINNER!! As a valued network customer you have been selected to receivea å£900 prize reward! To claim call 09061701461. Claim code KL341. Valid 12 hours only.   \n",
              "9         Had your mobile 11 months or more? U R entitled to Update to the latest colour mobiles with camera for Free! Call The Mobile Update Co FREE on 08002986030   \n",
              "10                                                     I'm gonna be home soon and i don't want to talk about this stuff anymore tonight, k? I've cried enough today.   \n",
              "11                          SIX chances to win CASH! From 100 to 20,000 pounds txt> CSH11 and send to 87575. Cost 150p/day, 6days, 16+ TsandCs apply Reply HL 4 info   \n",
              "12      URGENT! You have won a 1 week FREE membership in our å£100,000 Prize Jackpot! Txt the word: CLAIM to No: 81010 T&C www.dbuk.net LCCLTD POBOX 4403LDNW1A7RW18   \n",
              "\n",
              "   hamorspam  \n",
              "0        ham  \n",
              "1        ham  \n",
              "2       spam  \n",
              "3        ham  \n",
              "4        ham  \n",
              "5       spam  \n",
              "6        ham  \n",
              "7        ham  \n",
              "8       spam  \n",
              "9       spam  \n",
              "10       ham  \n",
              "11      spam  \n",
              "12      spam  "
            ]
          },
          "metadata": {
            "tags": []
          },
          "execution_count": 5
        }
      ]
    },
    {
      "cell_type": "code",
      "metadata": {
        "colab": {
          "base_uri": "https://localhost:8080/"
        },
        "id": "P-BrzSI_FXNn",
        "outputId": "06ede2d6-c7a3-4dc9-8063-037aadb777ef"
      },
      "source": [
        "df.shape"
      ],
      "execution_count": null,
      "outputs": [
        {
          "output_type": "execute_result",
          "data": {
            "text/plain": [
              "(5572, 2)"
            ]
          },
          "metadata": {
            "tags": []
          },
          "execution_count": 6
        }
      ]
    },
    {
      "cell_type": "markdown",
      "metadata": {
        "id": "SitnkNIu136l"
      },
      "source": [
        "# Build Baseline"
      ]
    },
    {
      "cell_type": "code",
      "metadata": {
        "colab": {
          "base_uri": "https://localhost:8080/",
          "height": 72
        },
        "id": "9RyaPBL1exIG",
        "outputId": "1b96ee6f-b73d-42e6-ce00-a6612b65b613"
      },
      "source": [
        "dls = TextDataLoaders.from_df(df, valid_pct=0.2)"
      ],
      "execution_count": null,
      "outputs": [
        {
          "output_type": "display_data",
          "data": {
            "text/html": [
              ""
            ],
            "text/plain": [
              "<IPython.core.display.HTML object>"
            ]
          },
          "metadata": {
            "tags": []
          }
        },
        {
          "output_type": "stream",
          "text": [
            "/usr/local/lib/python3.6/dist-packages/numpy/core/_asarray.py:83: VisibleDeprecationWarning: Creating an ndarray from ragged nested sequences (which is a list-or-tuple of lists-or-tuples-or ndarrays with different lengths or shapes) is deprecated. If you meant to do this, you must specify 'dtype=object' when creating the ndarray\n",
            "  return array(a, dtype, copy=False, order=order)\n"
          ],
          "name": "stderr"
        }
      ]
    },
    {
      "cell_type": "code",
      "metadata": {
        "colab": {
          "base_uri": "https://localhost:8080/",
          "height": 247
        },
        "id": "islls6QiwgLX",
        "outputId": "68a16c82-78d1-4674-d1ea-b77de94fdf88"
      },
      "source": [
        "dls.show_batch(max_n=3)"
      ],
      "execution_count": 48,
      "outputs": [
        {
          "output_type": "display_data",
          "data": {
            "text/html": [
              "<table border=\"1\" class=\"dataframe\">\n",
              "  <thead>\n",
              "    <tr style=\"text-align: right;\">\n",
              "      <th></th>\n",
              "      <th>text</th>\n",
              "      <th>category</th>\n",
              "    </tr>\n",
              "  </thead>\n",
              "  <tbody>\n",
              "    <tr>\n",
              "      <th>0</th>\n",
              "      <td>xxbos xxmaj the last thing i ever wanted to do was hurt you . xxmaj and i did n't think it would have . xxmaj you 'd laugh , be embarassed , xxunk the xxunk and keep going . xxmaj but as far as i knew , it was n't even up . xxmaj the fact that you even felt like i would do it to hurt you shows you really do n't know me at all . xxmaj it was xxunk wednesday , but it was n't bad . xxmaj the problem i have with it is you xxup have the time to clean it , but you choose not to . xxmaj you skype , you take pictures , you sleep , you want to go out . i do n't mind a few things here and there , but when you do n't make the bed ,</td>\n",
              "      <td>ham</td>\n",
              "    </tr>\n",
              "    <tr>\n",
              "      <th>1</th>\n",
              "      <td>xxbos xxmaj sad story of a xxmaj man - xxmaj last week was my b'day . xxmaj my xxmaj wife did'nt wish me . xxmaj my xxmaj parents forgot n so did my xxmaj kids . i went to work . xxmaj even my xxmaj colleagues did not wish . xxmaj as i entered my cabin my xxup pa said , '' xxmaj happy xxmaj b'day xxmaj boss ! ! '' . i felt special . xxmaj she askd me 4 lunch . xxmaj after lunch she invited me to her apartment . xxmaj we went there . xxmaj she said , ' ' do u mind if i go into the bedroom for a minute ? '' ' ' ok ' ' , i sed in a sexy mood . xxmaj she came out 5 minuts latr wid a cake … n xxmaj my xxmaj wife , xxmaj my</td>\n",
              "      <td>ham</td>\n",
              "    </tr>\n",
              "    <tr>\n",
              "      <th>2</th>\n",
              "      <td>xxbos xxmaj sad story of a xxmaj man - xxmaj last week was my b'day . xxmaj my xxmaj wife did'nt wish me . xxmaj my xxmaj parents forgot n so did my xxmaj kids . i went to work . xxmaj even my xxmaj colleagues did not wish . xxmaj as i entered my cabin my xxup pa said , '' xxmaj happy xxmaj b'day xxmaj boss ! ! '' . i felt special . xxmaj she askd me 4 lunch . xxmaj after lunch she invited me to her apartment . xxmaj we went there . xxmaj she said , ' ' do u mind if i go into the bedroom for a minute ? '' ' ' ok ' ' , i sed in a sexy mood . xxmaj she came out 5 minuts latr wid a cake … n xxmaj my xxmaj wife , xxmaj my</td>\n",
              "      <td>ham</td>\n",
              "    </tr>\n",
              "  </tbody>\n",
              "</table>"
            ],
            "text/plain": [
              "<IPython.core.display.HTML object>"
            ]
          },
          "metadata": {
            "tags": []
          }
        }
      ]
    },
    {
      "cell_type": "code",
      "metadata": {
        "id": "kdLs6cxGwoRB"
      },
      "source": [
        "learn = text_classifier_learner(dls, AWD_LSTM, drop_mult=0.5, metrics=[accuracy, Recall(), Precision(), F1Score(),CohenKappa()]) #, RocAuc()])"
      ],
      "execution_count": 76,
      "outputs": []
    },
    {
      "cell_type": "code",
      "metadata": {
        "colab": {
          "base_uri": "https://localhost:8080/",
          "height": 238
        },
        "id": "Ye7GrhgFzfob",
        "outputId": "eb7e9dac-529e-47ec-f97a-630d15690939"
      },
      "source": [
        "learn.fine_tune(4, 1e-2)"
      ],
      "execution_count": 77,
      "outputs": [
        {
          "output_type": "display_data",
          "data": {
            "text/html": [
              "<table border=\"1\" class=\"dataframe\">\n",
              "  <thead>\n",
              "    <tr style=\"text-align: left;\">\n",
              "      <th>epoch</th>\n",
              "      <th>train_loss</th>\n",
              "      <th>valid_loss</th>\n",
              "      <th>accuracy</th>\n",
              "      <th>recall_score</th>\n",
              "      <th>precision_score</th>\n",
              "      <th>f1_score</th>\n",
              "      <th>cohen_kappa_score</th>\n",
              "      <th>time</th>\n",
              "    </tr>\n",
              "  </thead>\n",
              "  <tbody>\n",
              "    <tr>\n",
              "      <td>0</td>\n",
              "      <td>0.510891</td>\n",
              "      <td>0.182776</td>\n",
              "      <td>0.950628</td>\n",
              "      <td>0.811594</td>\n",
              "      <td>0.794326</td>\n",
              "      <td>0.802867</td>\n",
              "      <td>0.774652</td>\n",
              "      <td>00:06</td>\n",
              "    </tr>\n",
              "  </tbody>\n",
              "</table>"
            ],
            "text/plain": [
              "<IPython.core.display.HTML object>"
            ]
          },
          "metadata": {
            "tags": []
          }
        },
        {
          "output_type": "display_data",
          "data": {
            "text/html": [
              "<table border=\"1\" class=\"dataframe\">\n",
              "  <thead>\n",
              "    <tr style=\"text-align: left;\">\n",
              "      <th>epoch</th>\n",
              "      <th>train_loss</th>\n",
              "      <th>valid_loss</th>\n",
              "      <th>accuracy</th>\n",
              "      <th>recall_score</th>\n",
              "      <th>precision_score</th>\n",
              "      <th>f1_score</th>\n",
              "      <th>cohen_kappa_score</th>\n",
              "      <th>time</th>\n",
              "    </tr>\n",
              "  </thead>\n",
              "  <tbody>\n",
              "    <tr>\n",
              "      <td>0</td>\n",
              "      <td>0.197217</td>\n",
              "      <td>0.141544</td>\n",
              "      <td>0.965889</td>\n",
              "      <td>0.811594</td>\n",
              "      <td>0.903226</td>\n",
              "      <td>0.854962</td>\n",
              "      <td>0.835696</td>\n",
              "      <td>00:08</td>\n",
              "    </tr>\n",
              "    <tr>\n",
              "      <td>1</td>\n",
              "      <td>0.127924</td>\n",
              "      <td>0.126628</td>\n",
              "      <td>0.976661</td>\n",
              "      <td>0.840580</td>\n",
              "      <td>0.966667</td>\n",
              "      <td>0.899225</td>\n",
              "      <td>0.886099</td>\n",
              "      <td>00:08</td>\n",
              "    </tr>\n",
              "    <tr>\n",
              "      <td>2</td>\n",
              "      <td>0.072418</td>\n",
              "      <td>0.078257</td>\n",
              "      <td>0.984740</td>\n",
              "      <td>0.891304</td>\n",
              "      <td>0.984000</td>\n",
              "      <td>0.935361</td>\n",
              "      <td>0.926734</td>\n",
              "      <td>00:08</td>\n",
              "    </tr>\n",
              "    <tr>\n",
              "      <td>3</td>\n",
              "      <td>0.050310</td>\n",
              "      <td>0.085980</td>\n",
              "      <td>0.982944</td>\n",
              "      <td>0.862319</td>\n",
              "      <td>1.000000</td>\n",
              "      <td>0.926070</td>\n",
              "      <td>0.916490</td>\n",
              "      <td>00:08</td>\n",
              "    </tr>\n",
              "  </tbody>\n",
              "</table>"
            ],
            "text/plain": [
              "<IPython.core.display.HTML object>"
            ]
          },
          "metadata": {
            "tags": []
          }
        }
      ]
    },
    {
      "cell_type": "code",
      "metadata": {
        "colab": {
          "base_uri": "https://localhost:8080/",
          "height": 1000
        },
        "id": "jkapPvL-0Lsi",
        "outputId": "d204e4cc-9c0a-4f12-9aee-ae4a10f2c443"
      },
      "source": [
        "learn.show_results(s_idx=2, max_n=100)"
      ],
      "execution_count": 78,
      "outputs": [
        {
          "output_type": "display_data",
          "data": {
            "text/html": [
              ""
            ],
            "text/plain": [
              "<IPython.core.display.HTML object>"
            ]
          },
          "metadata": {
            "tags": []
          }
        },
        {
          "output_type": "display_data",
          "data": {
            "text/html": [
              "<table border=\"1\" class=\"dataframe\">\n",
              "  <thead>\n",
              "    <tr style=\"text-align: right;\">\n",
              "      <th></th>\n",
              "      <th>text</th>\n",
              "      <th>category</th>\n",
              "      <th>category_</th>\n",
              "    </tr>\n",
              "  </thead>\n",
              "  <tbody>\n",
              "    <tr>\n",
              "      <th>0</th>\n",
              "      <td>xxbos xxmaj solve d xxmaj case : a xxmaj man xxmaj was xxmaj found xxmaj murdered xxmaj on &lt; decimal &gt; . &lt; # &gt; afternoon . 1,his wife called xxmaj police . 2,police questioned everyone . 3,wife : sir , i was sleeping , when the murder took place . 4.cook : i was cooking . 5.gardener : i was picking vegetables . 6.house - maid : i went 2 d post office . 7.children : xxmaj we went 2 play . 8.neighbour : xxmaj we went 2 a marriage . xxmaj police arrested d murderer xxmaj immediately . xxmaj who 's xxmaj it ? xxmaj reply xxmaj with xxmaj reason , xxmaj if u r xxmaj brilliant .</td>\n",
              "      <td>ham</td>\n",
              "      <td>ham</td>\n",
              "    </tr>\n",
              "    <tr>\n",
              "      <th>1</th>\n",
              "      <td>xxbos xxmaj solve d xxmaj case : a xxmaj man xxmaj was xxmaj found xxmaj murdered xxmaj on &lt; decimal &gt; . &lt; # &gt; afternoon . 1,his wife called xxmaj police . 2,police questioned everyone . 3,wife : sir , i was sleeping , when the murder took place . 4.cook : i was cooking . 5.gardener : i was picking vegetables . 6.house - maid : i went 2 d post office . 7.children : xxmaj we went 2 play . 8.neighbour : xxmaj we went 2 a marriage . xxmaj police arrested d murderer xxmaj immediately . xxmaj who 's xxmaj it ? xxmaj reply xxmaj with xxmaj reason , xxmaj if u r xxmaj brilliant .</td>\n",
              "      <td>ham</td>\n",
              "      <td>ham</td>\n",
              "    </tr>\n",
              "    <tr>\n",
              "      <th>2</th>\n",
              "      <td>xxbos xxmaj xxunk xxmaj xxunk : xxmaj if one xxmaj can do it , u too xxmaj can do it , xxmaj if none xxmaj can do it , u must do it xxmaj indian version : xxmaj if one xxmaj can do it , xxup let xxup him xxup do it .. xxmaj if none xxmaj can do it , leave it ! ! xxmaj and finally xxmaj kerala version : xxmaj if one can do it , xxmaj stop him doing it .. xxmaj if none can do it , xxmaj make a strike against it …</td>\n",
              "      <td>ham</td>\n",
              "      <td>ham</td>\n",
              "    </tr>\n",
              "    <tr>\n",
              "      <th>3</th>\n",
              "      <td>xxbos xxmaj xxunk xxmaj xxunk : xxmaj if one xxmaj can do it , u too xxmaj can do it , xxmaj if none xxmaj can do it , u must do it xxmaj indian version : xxmaj if one xxmaj can do it , xxup let xxup him xxup do it .. xxmaj if none xxmaj can do it , leave it ! ! xxmaj and finally xxmaj kerala version : xxmaj if one can do it , xxmaj stop him doing it .. xxmaj if none can do it , xxmaj make a strike against it …</td>\n",
              "      <td>ham</td>\n",
              "      <td>ham</td>\n",
              "    </tr>\n",
              "    <tr>\n",
              "      <th>4</th>\n",
              "      <td>xxbos xxmaj no i 'm not . i ca n't give you everything you want and need . xxmaj you actually could do better for yourself on yor own -- xxunk got more money than i do . i ca n't get work , i ca n't get a man , i ca n't pay the rent , i ca n't even fill my fucking gas xxunk . yes , i 'm xxunk and xxunk . i did n't even call home for thanksgiving cuz i 'll have to tell them i , m up to nothing .</td>\n",
              "      <td>ham</td>\n",
              "      <td>ham</td>\n",
              "    </tr>\n",
              "    <tr>\n",
              "      <th>5</th>\n",
              "      <td>xxbos xxmaj storming msg : xxmaj wen u lift d phne , u say \\ xxup hello \" xxmaj do u knw wt is d real meaning of xxup hello ? ? . . . xxmaj it 's d name of a girl .. ! . . . xxmaj yes .. xxmaj and u knw who is dat girl ? ? \" margaret xxmaj hello \" xxmaj she is d girlfrnd f xxmaj grahmbell who invnted telphone … . . . . moral : one can 4get d name of a person</td>\n",
              "      <td>ham</td>\n",
              "      <td>ham</td>\n",
              "    </tr>\n",
              "    <tr>\n",
              "      <th>6</th>\n",
              "      <td>xxbos xxmaj rose for red , red for blood , blood for heart , heart for u. xxmaj but u for me … . xxmaj send tis to all ur friends .. xxmaj including me .. xxmaj if u like me .. xxmaj if u get back , xxunk r poor in relation ! xxunk need some 1 to support xxunk r frnd 2 many xxunk xxunk u 5 + - some1 is xxunk god to marry xxunk ) try it … .</td>\n",
              "      <td>ham</td>\n",
              "      <td>ham</td>\n",
              "    </tr>\n",
              "    <tr>\n",
              "      <th>7</th>\n",
              "      <td>xxbos i had been hoping i would not have to send you this message . xxmaj my rent is due and i do nt have enough for it . xxmaj my xxunk are completely gone . xxmaj its a loan i need and was hoping you could her . xxmaj the balance is &lt; # &gt; . xxmaj is there a way i could get that from you , till mid march when i hope to pay back .</td>\n",
              "      <td>ham</td>\n",
              "      <td>ham</td>\n",
              "    </tr>\n",
              "    <tr>\n",
              "      <th>8</th>\n",
              "      <td>xxbos xxmaj for you information , xxup ikea is xxunk with all xxunk . xxmaj that is not xxunk . when you thought i had left you , you were sitting on the bed among the xxunk when i came in . i said we were going after you got home from class . please do n't try and xxunk me . xxmaj it makes me want to listen to you less .</td>\n",
              "      <td>ham</td>\n",
              "      <td>ham</td>\n",
              "    </tr>\n",
              "    <tr>\n",
              "      <th>9</th>\n",
              "      <td>xxbos xxup so xxup is xxup th xxup xxunk xxup mate xxup which xxup is xxup where i xxup am ! ? ! xxup how r u xxup man ? xxup all xxup is xxup good xxup in xxup wales xxup ill b xxup back xxunk . c u xxup this xxup wk ? xxup who xxup was xxup the xxup msg 4 ? åð xxup random !</td>\n",
              "      <td>ham</td>\n",
              "      <td>ham</td>\n",
              "    </tr>\n",
              "    <tr>\n",
              "      <th>10</th>\n",
              "      <td>xxbos xxmaj ha ha nan xxunk xxunk .. xxunk xxunk chikku , u xxunk many things wit me .. so far i did n't told any body and even xxunk a word abt u .. xxmaj if ur xxunk me so much how can i tell these to others .. xxmaj plz nxt time do nt use those words to me .. ok , xxunk )</td>\n",
              "      <td>ham</td>\n",
              "      <td>ham</td>\n",
              "    </tr>\n",
              "    <tr>\n",
              "      <th>11</th>\n",
              "      <td>xxbos i wanted to wish you a xxmaj happy xxmaj new xxmaj year and i wanted to talk to you about some legal advice to do with when xxmaj gary and i xxunk but in person . xxmaj i 'll make a trip to xxmaj ptbo for that . i hope everything is good with you babe and i love ya :)</td>\n",
              "      <td>ham</td>\n",
              "      <td>ham</td>\n",
              "    </tr>\n",
              "    <tr>\n",
              "      <th>12</th>\n",
              "      <td>xxbos xxmaj what do u want when i come xxunk beautiful xxunk as a xxunk of my heart for xxunk what i will give but xxup only to xxup my xxup wife xxup of xxup my xxup xxunk xxup that xxup and xxup see .. no xxup one can give you xxunk call me.i will wait till i come .</td>\n",
              "      <td>ham</td>\n",
              "      <td>ham</td>\n",
              "    </tr>\n",
              "    <tr>\n",
              "      <th>13</th>\n",
              "      <td>xxbos xxup hi xxup hun ! xxup i m xxup not xxup comin 2nite - tell xxup xxunk xxup i m xxup sorry 4 xxup me , xxup hope u xxup xxunk xxup xxunk xxup rang xxup xxunk xxup xxunk xxup it xxup mite b xxup sorted , but xxup il xxup explain xxup xxunk xxup on xxunk</td>\n",
              "      <td>ham</td>\n",
              "      <td>ham</td>\n",
              "    </tr>\n",
              "    <tr>\n",
              "      <th>14</th>\n",
              "      <td>xxbos xxmaj should i buy him a blackberry bold 2 or torch . xxmaj should i buy him new or used . xxmaj let me know . xxmaj plus are you saying i should buy the &lt; # &gt; g xxunk xxunk . xxmaj and what are you saying about the about the &lt; # &gt; g ?</td>\n",
              "      <td>ham</td>\n",
              "      <td>ham</td>\n",
              "    </tr>\n",
              "    <tr>\n",
              "      <th>15</th>\n",
              "      <td>xxbos xxmaj xxunk tones for 150p xxmaj reply xxup poly # or xxup mono # eg xxup xxunk 1 . xxmaj cha xxmaj cha xxmaj xxunk 2 . xxmaj yeah 3 . xxmaj slow xxmaj xxunk 6 . xxmaj xxunk 8 . xxmaj come xxmaj with xxmaj me or xxup stop 4 more tones txt xxup more</td>\n",
              "      <td>spam</td>\n",
              "      <td>spam</td>\n",
              "    </tr>\n",
              "    <tr>\n",
              "      <th>16</th>\n",
              "      <td>xxbos xxmaj wanna have a laugh ? xxmaj try xxup xxunk - chat on your mobile now ! xxmaj xxunk by txting the word : xxup chat and send it to xxmaj no : xxrep 3 8 3 xxup xxunk xxup po xxmaj box xxunk xxmaj london xxup xxunk xxunk 16 + xxunk / msg rcvd</td>\n",
              "      <td>spam</td>\n",
              "      <td>spam</td>\n",
              "    </tr>\n",
              "    <tr>\n",
              "      <th>17</th>\n",
              "      <td>xxbos xxmaj idk . xxmaj you keep saying that you 're not , but since he moved , we keep xxunk xxunk over xxunk xxunk xxunk . xxmaj and i 'm tired . i have so much other shit to deal with that i 'm barely keeping myself together once this gets added to it .</td>\n",
              "      <td>ham</td>\n",
              "      <td>ham</td>\n",
              "    </tr>\n",
              "    <tr>\n",
              "      <th>18</th>\n",
              "      <td>xxbos xxmaj every xxmaj king xxmaj was xxmaj once a xxmaj xxunk xxmaj baby xxmaj and xxmaj every xxmaj great xxmaj building xxmaj was xxmaj once a xxmaj map .. xxmaj not xxmaj xxunk xxmaj where u r xxup today , xxup but xxmaj where u xxmaj wil xxmaj reach xxup xxunk . xxmaj gud ni8</td>\n",
              "      <td>ham</td>\n",
              "      <td>ham</td>\n",
              "    </tr>\n",
              "    <tr>\n",
              "      <th>19</th>\n",
              "      <td>xxbos xxup fran i xxup decided 2 xxup go n e xxup way xxup i m xxup completely xxup broke xxup an xxup knackered i xxup got xxup up xxup bout 3 c u 2mrw xxup love xxup xxunk xxup xxunk xxup this xxup is xxup my xxup xxunk xxup fone , xxunk xxup credit</td>\n",
              "      <td>ham</td>\n",
              "      <td>ham</td>\n",
              "    </tr>\n",
              "    <tr>\n",
              "      <th>20</th>\n",
              "      <td>xxbos xxmaj ever green quote ever told by xxmaj xxunk in cartoon \\ a xxmaj person xxmaj who xxmaj xxunk u xxmaj always xxmaj is the one xxmaj who xxmaj loves u xxmaj vry xxmaj much xxmaj but xxmaj xxunk to xxmaj express xxmaj it … ! .. ! ! :-) :-) gud nyt \"</td>\n",
              "      <td>ham</td>\n",
              "      <td>ham</td>\n",
              "    </tr>\n",
              "    <tr>\n",
              "      <th>21</th>\n",
              "      <td>xxbos xxmaj she left it very xxunk . xxmaj she just said she would inform the person in xxunk about the xxunk rent and that i should discuss with the xxunk xxunk about my xxunk another place . xxmaj but checking online now and all places around xxunk are &lt; # &gt; and up</td>\n",
              "      <td>ham</td>\n",
              "      <td>ham</td>\n",
              "    </tr>\n",
              "    <tr>\n",
              "      <th>22</th>\n",
              "      <td>xxbos xxmaj in xxmaj the xxmaj xxunk xxmaj movie released in xxmaj july xxunk name the xxunk that died at the start of the film ? a - green xxmaj day , b - blue xxmaj day , c - red xxmaj day . ( send xxup a , b or xxup c )</td>\n",
              "      <td>spam</td>\n",
              "      <td>spam</td>\n",
              "    </tr>\n",
              "    <tr>\n",
              "      <th>23</th>\n",
              "      <td>xxbos xxmaj you are always putting your business out there . xxmaj you put pictures of your ass on facebook . xxmaj you are one of the most open people i 've ever met . xxmaj why would i think a picture of your room would hurt you , make you feel xxunk .</td>\n",
              "      <td>ham</td>\n",
              "      <td>ham</td>\n",
              "    </tr>\n",
              "    <tr>\n",
              "      <th>24</th>\n",
              "      <td>xxbos xxup when xxup the xxup first xxup strike xxup is a xxup red xxup one . xxup the xxup xxunk + xxup xxunk xxup begin xxup xxunk xxup in xxup the xxup xxunk xxup xxunk xxup believe xxup this + xxup the xxup flower xxup of xxup xxunk xxup will xxup xxunk !</td>\n",
              "      <td>ham</td>\n",
              "      <td>ham</td>\n",
              "    </tr>\n",
              "    <tr>\n",
              "      <th>25</th>\n",
              "      <td>xxbos xxmaj i 'm coming back on xxmaj thursday . xxmaj yay . xxmaj is it gon na be ok to get the money . xxmaj cheers . xxmaj oh yeah and how are you . xxmaj everything alright . xxmaj how s school . xxmaj or do you call it work now</td>\n",
              "      <td>ham</td>\n",
              "      <td>ham</td>\n",
              "    </tr>\n",
              "    <tr>\n",
              "      <th>26</th>\n",
              "      <td>xxbos xxup i m xxup fine xxup babes xxup ai nt xxup been xxup up 2 xxup much xxup tho ! xxup saw xxup scary xxup movie xxup yest xxup its xxup quite xxup funny ! xxup want 2mrw xxup afternoon ? xxup at xxup town xxup or xxup mall xxup or xxunk</td>\n",
              "      <td>ham</td>\n",
              "      <td>ham</td>\n",
              "    </tr>\n",
              "    <tr>\n",
              "      <th>27</th>\n",
              "      <td>xxbos xxmaj i 'm done . xxmaj i 'm sorry . i hope your next space gives you everything you want . xxmaj remember all the xxunk is yours . xxmaj if i 'm not around when you move it , just xxunk all the xxunk and leave the key with xxunk .</td>\n",
              "      <td>ham</td>\n",
              "      <td>ham</td>\n",
              "    </tr>\n",
              "    <tr>\n",
              "      <th>28</th>\n",
              "      <td>xxbos xxmaj i 'm xxunk off my phone . xxmaj my moms telling everyone i have cancer . xxmaj and my sister wo n't stop calling . xxmaj it hurts to talk . xxmaj ca n't put up with it . xxmaj see u when u get home . xxmaj love u</td>\n",
              "      <td>ham</td>\n",
              "      <td>ham</td>\n",
              "    </tr>\n",
              "    <tr>\n",
              "      <th>29</th>\n",
              "      <td>xxbos xxmaj shop till u xxmaj drop , xxup is xxup it xxup you , either 10k , xxunk , å£500 xxmaj cash or å£100 xxmaj travel voucher , xxmaj call now , xxunk xxrep 3 0 . xxup ntt xxup po xxmaj box xxup xxunk xxunk xxmaj cost 150ppm mobile vary</td>\n",
              "      <td>spam</td>\n",
              "      <td>spam</td>\n",
              "    </tr>\n",
              "    <tr>\n",
              "      <th>30</th>\n",
              "      <td>xxbos xxmaj good afternoon on this xxunk xxunk day , my sweet j ! ! i hope this xxunk you happy and content , my xxmaj prey . i think of you and send a teasing kiss from across the sea xxunk xxunk of xxunk xxunk … xxmaj you xxunk - xxunk</td>\n",
              "      <td>ham</td>\n",
              "      <td>ham</td>\n",
              "    </tr>\n",
              "    <tr>\n",
              "      <th>31</th>\n",
              "      <td>xxbos xxmaj well there 's a xxunk xxunk of my friends telling me to drive up and come smoke with them and then telling me that xxmaj i 'm a weed xxunk / make them smoke too much / xxunk their doing other things so you see how xxmaj i 'm xxunk</td>\n",
              "      <td>ham</td>\n",
              "      <td>ham</td>\n",
              "    </tr>\n",
              "    <tr>\n",
              "      <th>32</th>\n",
              "      <td>xxbos xxmaj xmas xxmaj offer ! xxmaj latest xxmaj motorola , sonyericsson &amp; xxmaj nokia &amp; xxup free xxmaj bluetooth or xxup dvd ! xxmaj double xxmaj mins &amp; 1 xxrep 3 0 xxmaj txt on xxmaj orange . xxmaj call mobileupd8 on 08 xxrep 3 0 839402 or call2optout / xxunk</td>\n",
              "      <td>spam</td>\n",
              "      <td>spam</td>\n",
              "    </tr>\n",
              "    <tr>\n",
              "      <th>33</th>\n",
              "      <td>xxbos \\ xxmaj hey ! do u fancy meetin me at 4 at cha åð hav a xxunk xxunk on me . if not txt or ring me and we can meet up l8r . quite tired got in at 3 xxunk ;) love xxmaj pete xxwrep 3 x \" \"</td>\n",
              "      <td>ham</td>\n",
              "      <td>ham</td>\n",
              "    </tr>\n",
              "    <tr>\n",
              "      <th>34</th>\n",
              "      <td>xxbos xxmaj thank you so much . xxmaj when we xxunk wit xxunk and sura , we did nt get the pleasure of your company . xxmaj hope you are good . xxmaj we 've xxunk you xxunk oh ! xxmaj we are xxunk down to xxunk . xxmaj enjoy !</td>\n",
              "      <td>ham</td>\n",
              "      <td>ham</td>\n",
              "    </tr>\n",
              "    <tr>\n",
              "      <th>35</th>\n",
              "      <td>xxbos \\ xxup cheers u xxup xxunk xxup xxunk u xxup xxunk ! xxup yeah xxup xxunk xxup xxunk r xxup xxunk xxup wk xxup xxunk xxup xxunk xxup havin xxup xxunk xxup j ! xxup keep xxup xxunk xxup xxunk xxup of xxup xxunk xxrep 5 x . \" \"</td>\n",
              "      <td>ham</td>\n",
              "      <td>ham</td>\n",
              "    </tr>\n",
              "    <tr>\n",
              "      <th>36</th>\n",
              "      <td>xxbos xxmaj she said , ' ' do u mind if i go into the bedroom for a minute ? '' ' ' ok ' ' , i sed in a sexy mood . xxmaj she came out 5 minuts latr wid a cake … n xxmaj my xxmaj wife ,</td>\n",
              "      <td>ham</td>\n",
              "      <td>ham</td>\n",
              "    </tr>\n",
              "    <tr>\n",
              "      <th>37</th>\n",
              "      <td>xxbos xxmaj loan for any purpose å£500 - å£75 , xxrep 3 0 . xxmaj homeowners + xxmaj tenants welcome . xxmaj have you been previously refused ? xxmaj we can still help . xxmaj call xxmaj free 0800 195 xxrep 3 6 9 or text back ' help '</td>\n",
              "      <td>spam</td>\n",
              "      <td>spam</td>\n",
              "    </tr>\n",
              "    <tr>\n",
              "      <th>38</th>\n",
              "      <td>xxbos xxmaj sad story of a xxmaj man - xxmaj last week was my b'day . xxmaj my xxmaj wife did'nt wish me . xxmaj my xxmaj parents forgot n so did my xxmaj kids . i went to work . xxmaj even my xxmaj colleagues did not wish .</td>\n",
              "      <td>ham</td>\n",
              "      <td>ham</td>\n",
              "    </tr>\n",
              "    <tr>\n",
              "      <th>39</th>\n",
              "      <td>xxbos xxmaj xxunk xxmaj xxunk dsn't hav xxunk xxmaj wish dsn't hav xxmaj xxunk .. xxmaj if u smile , d xxmaj world is wit xxunk even d xxmaj drop of xxmaj tear dsn't lik 2 xxmaj stay wit xxunk b happy .. xxmaj good morning , keep xxunk )</td>\n",
              "      <td>ham</td>\n",
              "      <td>ham</td>\n",
              "    </tr>\n",
              "    <tr>\n",
              "      <th>40</th>\n",
              "      <td>xxbos xxup hi xxup its xxup jess i xxup do nt xxup know xxup if xxup you xxup are xxup at xxup work xxup but xxup call xxup me xxup when u xxup can xxup i m xxup at xxup home xxup all xxup eve . xxrep 3 x</td>\n",
              "      <td>ham</td>\n",
              "      <td>ham</td>\n",
              "    </tr>\n",
              "    <tr>\n",
              "      <th>41</th>\n",
              "      <td>xxbos xxmaj my life xxmaj means a lot to me , xxmaj not because i love my life , xxmaj but because i love the people in my life , xxmaj the world calls them friends , i call them my xxmaj xxunk ) .. xxmaj xxunk ) ..</td>\n",
              "      <td>ham</td>\n",
              "      <td>ham</td>\n",
              "    </tr>\n",
              "    <tr>\n",
              "      <th>42</th>\n",
              "      <td>xxbos xxup your xxup chance xxup to xxup be xxup on a xxup reality xxup fantasy xxup show call now = 08707509020 xxmaj just 20p per min xxup ntt xxmaj ltd , xxup po xxmaj box 1327 xxmaj croydon xxup cr9 5wb 0870 is a national = rate call</td>\n",
              "      <td>spam</td>\n",
              "      <td>spam</td>\n",
              "    </tr>\n",
              "    <tr>\n",
              "      <th>43</th>\n",
              "      <td>xxbos xxmaj babe : u want me do nt u baby ! xxmaj i m xxunk and have a thing 4 xxunk . xxmaj fancy a rude time with a sexy bitch . xxmaj how about we go xxunk n hard ! xxmaj txt xxrep 3 x xxunk )</td>\n",
              "      <td>spam</td>\n",
              "      <td>ham</td>\n",
              "    </tr>\n",
              "    <tr>\n",
              "      <th>44</th>\n",
              "      <td>xxbos 7 wonders in xxmaj my xxup world 7th xxmaj you 6th xxmaj ur style 5th xxmaj ur smile 4th xxmaj ur xxmaj personality 3rd xxmaj ur xxmaj nature 2nd xxmaj ur xxup sms and 1st \\ xxmaj ur xxmaj lovely xxmaj friendship \" … good morning dear \"</td>\n",
              "      <td>ham</td>\n",
              "      <td>ham</td>\n",
              "    </tr>\n",
              "    <tr>\n",
              "      <th>45</th>\n",
              "      <td>xxbos xxmaj hello hun how ru ? xxmaj its here by the way . xxmaj i m good . xxmaj been on 2 dates with that guy i met in xxunk so far . xxmaj we have to meet up soon . xxmaj how s everyone else ?</td>\n",
              "      <td>ham</td>\n",
              "      <td>ham</td>\n",
              "    </tr>\n",
              "    <tr>\n",
              "      <th>46</th>\n",
              "      <td>xxbos xxup hi xxup darlin xxup i ve xxup just xxup got xxup back xxup and i xxup had a xxup really xxup nice xxup night xxup and xxup thanks xxup so xxup much xxup for xxup the xxup lift xxup see u xxup tomorrow xxrep 3 x</td>\n",
              "      <td>ham</td>\n",
              "      <td>ham</td>\n",
              "    </tr>\n",
              "    <tr>\n",
              "      <th>47</th>\n",
              "      <td>xxbos xxmaj do you want a xxmaj new xxmaj nokia 3510i xxmaj colour xxmaj phone xxmaj delivered xxmaj tomorrow ? xxmaj with 200 xxup free minutes to any mobile + 100 xxup free text + xxup free camcorder xxmaj reply or xxmaj call 08 xxrep 3 0 930705</td>\n",
              "      <td>spam</td>\n",
              "      <td>ham</td>\n",
              "    </tr>\n",
              "    <tr>\n",
              "      <th>48</th>\n",
              "      <td>xxbos xxmaj dear xxunk xxrep 7 x xxmaj u've been invited to xxup xchat . xxmaj this is our final attempt to contact u ! xxmaj txt xxup chat to 86688 150p / msgrcvdhg / xxmaj suite342 / 2lands / xxmaj row / xxup w1j6hl xxup ldn 18yrs</td>\n",
              "      <td>spam</td>\n",
              "      <td>ham</td>\n",
              "    </tr>\n",
              "    <tr>\n",
              "      <th>49</th>\n",
              "      <td>xxbos m xxrep 5 m … i love you , so much , xxmaj ahmad … i ca n't wait for this year to begin as every second takes me closer to being at your side . xxmaj happy xxmaj new xxmaj year , my love ! !</td>\n",
              "      <td>ham</td>\n",
              "      <td>ham</td>\n",
              "    </tr>\n",
              "    <tr>\n",
              "      <th>50</th>\n",
              "      <td>xxbos xxmaj xxunk xxmaj mobile xxmaj play the official xxmaj xxunk xxmaj xxunk - man game ( å£4.50 ) on ur mobile right now . xxmaj text xxup xxunk to 8 xxrep 3 3 8 for the game &amp; we ll send u a xxup free xxunk wallpaper</td>\n",
              "      <td>spam</td>\n",
              "      <td>ham</td>\n",
              "    </tr>\n",
              "    <tr>\n",
              "      <th>51</th>\n",
              "      <td>xxbos xxmaj had your contract mobile 11 xxmaj xxunk ? xxmaj latest xxmaj motorola , xxmaj nokia etc . all xxup free ! xxmaj double xxmaj mins &amp; xxmaj text on xxmaj orange tariffs . xxup text xxup yes for callback , no to remove from records</td>\n",
              "      <td>spam</td>\n",
              "      <td>ham</td>\n",
              "    </tr>\n",
              "    <tr>\n",
              "      <th>52</th>\n",
              "      <td>xxbos freemsg : xxmaj claim ur 250 xxup sms messages - text xxup ok to 84025 xxunk xxunk 2 ur mates etc . xxmaj join xxmaj xxunk for xxunk / wk . xxup t&amp;c xxup xxunk , xxup xxunk . 16 . xxmaj remove xxunk or stop</td>\n",
              "      <td>spam</td>\n",
              "      <td>ham</td>\n",
              "    </tr>\n",
              "    <tr>\n",
              "      <th>53</th>\n",
              "      <td>xxbos xxmaj good afternoon , my love ! xxmaj any job prospects ? xxmaj are you missing me ? xxmaj what do you do ? xxmaj are you being lazy and xxunk , h xxrep 3 m ? xxmaj or happy and xxunk with my love ?</td>\n",
              "      <td>ham</td>\n",
              "      <td>ham</td>\n",
              "    </tr>\n",
              "    <tr>\n",
              "      <th>54</th>\n",
              "      <td>xxbos xxmaj hiya , sorry did n't hav xxunk . i have n't seen or heard from and xxunk has , which is xxunk in itself ! xxmaj i 'll put on the case and get him to sort it out ! xxmaj xxunk and xxunk .</td>\n",
              "      <td>ham</td>\n",
              "      <td>ham</td>\n",
              "    </tr>\n",
              "    <tr>\n",
              "      <th>55</th>\n",
              "      <td>xxbos xxmaj call xxunk to use ur mins ! xxmaj calls xxunk 10p / min ( mob vary ) . xxmaj service provided by xxup xxunk , just xxup xxunk / month . xxup xxunk xxunk xxunk until u stop . xxmaj ages 18 + only !</td>\n",
              "      <td>spam</td>\n",
              "      <td>ham</td>\n",
              "    </tr>\n",
              "    <tr>\n",
              "      <th>56</th>\n",
              "      <td>xxbos xxmaj xxunk ( 20 / xxup f ) is inviting you to be her friend . xxmaj reply xxup xxunk or xxup xxunk xxmaj see her : xxrep 3 w .sms.ac / u / xxunk xxup stop ? xxmaj send xxup stop xxup frnd to 62468</td>\n",
              "      <td>spam</td>\n",
              "      <td>ham</td>\n",
              "    </tr>\n",
              "    <tr>\n",
              "      <th>57</th>\n",
              "      <td>xxbos xxmaj no . 1 xxmaj nokia xxmaj tone 4 ur mob every week ! xxmaj just txt xxup xxunk to 87021 . 1st xxmaj tone xxup free ! so get txtin now and tell ur friends . 150p / tone . 16 reply xxup hl 4info</td>\n",
              "      <td>spam</td>\n",
              "      <td>ham</td>\n",
              "    </tr>\n",
              "    <tr>\n",
              "      <th>58</th>\n",
              "      <td>xxbos xxmaj if you do n't , your prize will go to another customer . xxup t&amp;c at xxrep 3 w .t - xxunk 18 + 150p / min xxmaj xxunk xxmaj ltd xxmaj suite xxunk xxmaj london xxup xxunk xxunk xxmaj please call back if busy</td>\n",
              "      <td>spam</td>\n",
              "      <td>ham</td>\n",
              "    </tr>\n",
              "    <tr>\n",
              "      <th>59</th>\n",
              "      <td>xxbos xxmaj not heard from xxup u4 a while . xxmaj call 4 rude chat private line xxunk to cum . xxmaj wan xxunk pics of me gettin xxunk then text xxup pix to 8552 . xxunk send xxup stop 8552 xxup sam xxrep 3 x</td>\n",
              "      <td>spam</td>\n",
              "      <td>ham</td>\n",
              "    </tr>\n",
              "    <tr>\n",
              "      <th>60</th>\n",
              "      <td>xxbos xxmaj the xxup xxunk xxup man ! xxmaj just to let you know you are missed and thought off . xxmaj do have a great day . xxmaj and if you can send me xxunk and xxunk 's numbers , ill appreciate . xxmaj safe</td>\n",
              "      <td>ham</td>\n",
              "      <td>ham</td>\n",
              "    </tr>\n",
              "    <tr>\n",
              "      <th>61</th>\n",
              "      <td>xxbos h xxrep 3 m … xxmaj and imagine after you 've come home from that having to xxunk my feet , make me dinner and help me get ready for my date ! xxmaj are you sure your ready for that kind of life ?</td>\n",
              "      <td>ham</td>\n",
              "      <td>ham</td>\n",
              "    </tr>\n",
              "    <tr>\n",
              "      <th>62</th>\n",
              "      <td>xxbos xxmaj want 2 get laid tonight ? xxmaj want real xxmaj dogging locations sent direct 2 ur xxmaj mob ? xxmaj join the uk 's largest xxmaj dogging xxmaj network by txting xxup moan to 69 xxrep 3 8 xxmaj nyt . ec2a . xxunk</td>\n",
              "      <td>spam</td>\n",
              "      <td>ham</td>\n",
              "    </tr>\n",
              "    <tr>\n",
              "      <th>63</th>\n",
              "      <td>xxbos xxup urgent ! xxmaj we are trying to contact xxup u. xxmaj todays draw shows that you have won a å£800 prize xxup guaranteed . xxmaj call 0905 xxrep 3 0 xxunk from land line . xxmaj claim xxup xxunk . xxmaj valid 12hrs only</td>\n",
              "      <td>spam</td>\n",
              "      <td>ham</td>\n",
              "    </tr>\n",
              "  </tbody>\n",
              "</table>"
            ],
            "text/plain": [
              "<IPython.core.display.HTML object>"
            ]
          },
          "metadata": {
            "tags": []
          }
        }
      ]
    },
    {
      "cell_type": "markdown",
      "metadata": {
        "id": "BBeO9ZZt1geZ"
      },
      "source": [
        "## Results\n",
        "\n",
        "accuracy: 0.982944  \t\n",
        "recall_score: 0.862319 \t\n",
        "precision_score: 1.000000 \t\n",
        "f1_score: 0.926070 \t\n",
        "cohen_kappa_score: 0.916490\n",
        "\n",
        "  \t \t \t"
      ]
    },
    {
      "cell_type": "markdown",
      "metadata": {
        "id": "UCqVmg9D2Hsh"
      },
      "source": [
        "# First Improvement: Use a pretrained Language Model"
      ]
    },
    {
      "cell_type": "code",
      "metadata": {
        "id": "ul-M59dy2V_A",
        "colab": {
          "base_uri": "https://localhost:8080/",
          "height": 72
        },
        "outputId": "9c53fc05-4b63-4733-c79c-a8c318533213"
      },
      "source": [
        "dls_lm = TextDataLoaders.from_df(df,  is_lm=True, valid_pct=0.2)"
      ],
      "execution_count": 79,
      "outputs": [
        {
          "output_type": "display_data",
          "data": {
            "text/html": [
              ""
            ],
            "text/plain": [
              "<IPython.core.display.HTML object>"
            ]
          },
          "metadata": {
            "tags": []
          }
        },
        {
          "output_type": "stream",
          "text": [
            "/usr/local/lib/python3.6/dist-packages/numpy/core/_asarray.py:83: VisibleDeprecationWarning: Creating an ndarray from ragged nested sequences (which is a list-or-tuple of lists-or-tuples-or ndarrays with different lengths or shapes) is deprecated. If you meant to do this, you must specify 'dtype=object' when creating the ndarray\n",
            "  return array(a, dtype, copy=False, order=order)\n"
          ],
          "name": "stderr"
        }
      ]
    },
    {
      "cell_type": "code",
      "metadata": {
        "colab": {
          "base_uri": "https://localhost:8080/",
          "height": 379
        },
        "id": "co9UDld9_y9l",
        "outputId": "1db00d82-0c24-4fd5-cd30-80d5e64db5fd"
      },
      "source": [
        "dls_lm.show_batch(max_n=5)"
      ],
      "execution_count": 199,
      "outputs": [
        {
          "output_type": "display_data",
          "data": {
            "text/html": [
              "<table border=\"1\" class=\"dataframe\">\n",
              "  <thead>\n",
              "    <tr style=\"text-align: right;\">\n",
              "      <th></th>\n",
              "      <th>text</th>\n",
              "      <th>text_</th>\n",
              "    </tr>\n",
              "  </thead>\n",
              "  <tbody>\n",
              "    <tr>\n",
              "      <th>0</th>\n",
              "      <td>xxbos somewhere out there xxunk the xxunk moon light someone think in of u some where out there where dreams come true … goodnite &amp; &amp; sweet dreams xxbos xxmaj you are not xxunk me but you have to trust my answers . xxmaj pls . xxbos xxmaj my mobile xxunk sms ur mail xxunk regards to xxunk , xxunk xxbos xxmaj alrite xxunk how s the xxunk goin ? xxmaj xxunk</td>\n",
              "      <td>somewhere out there xxunk the xxunk moon light someone think in of u some where out there where dreams come true … goodnite &amp; &amp; sweet dreams xxbos xxmaj you are not xxunk me but you have to trust my answers . xxmaj pls . xxbos xxmaj my mobile xxunk sms ur mail xxunk regards to xxunk , xxunk xxbos xxmaj alrite xxunk how s the xxunk goin ? xxmaj xxunk bin</td>\n",
              "    </tr>\n",
              "    <tr>\n",
              "      <th>1</th>\n",
              "      <td>with their xxunk … xxunk they hav gud xxunk dat xxunk problems . i sent dis 2 u , u wil get gud news on friday by d person you like . xxmaj and tomorrow will be the best day of your life . xxmaj do nt break this chain . xxmaj if you break you will xxunk . send this to &lt; # &gt; frnds in &lt; # &gt; mins xxunk</td>\n",
              "      <td>their xxunk … xxunk they hav gud xxunk dat xxunk problems . i sent dis 2 u , u wil get gud news on friday by d person you like . xxmaj and tomorrow will be the best day of your life . xxmaj do nt break this chain . xxmaj if you break you will xxunk . send this to &lt; # &gt; frnds in &lt; # &gt; mins xxunk u</td>\n",
              "    </tr>\n",
              "    <tr>\n",
              "      <th>2</th>\n",
              "      <td>xxmaj yo you around ? a friend of mine 's lookin to pick up later tonight xxbos xxmaj mm feeling xxunk . today itself i shall get that dear xxbos xxmaj night has ended for another day , morning has come in a special way . xxmaj may you smile like the sunny rays and leaves your worries at the blue blue bay . xxbos xxmaj just trying to figure out when</td>\n",
              "      <td>yo you around ? a friend of mine 's lookin to pick up later tonight xxbos xxmaj mm feeling xxunk . today itself i shall get that dear xxbos xxmaj night has ended for another day , morning has come in a special way . xxmaj may you smile like the sunny rays and leaves your worries at the blue blue bay . xxbos xxmaj just trying to figure out when xxmaj</td>\n",
              "    </tr>\n",
              "    <tr>\n",
              "      <th>3</th>\n",
              "      <td>xxmaj dat day ì _ send me da url ca nt work one … xxbos xxmaj so check your xxunk and if you had xxunk , do xxunk . xxbos xxmaj hi frnd , which is best way to xxunk xxunk wit our xxunk one 's ? xxbos g xxrep 5 e … xxmaj your internet is really bad today , eh ? xxbos xxmaj you always make things bigger than they</td>\n",
              "      <td>dat day ì _ send me da url ca nt work one … xxbos xxmaj so check your xxunk and if you had xxunk , do xxunk . xxbos xxmaj hi frnd , which is best way to xxunk xxunk wit our xxunk one 's ? xxbos g xxrep 5 e … xxmaj your internet is really bad today , eh ? xxbos xxmaj you always make things bigger than they are</td>\n",
              "    </tr>\n",
              "    <tr>\n",
              "      <th>4</th>\n",
              "      <td>air my xxunk on xxunk 2 b used 2 measure xxunk in next xxunk . xxmaj busy xxunk . :-) xxbos xxmaj studying . xxmaj but i.ll be free next weekend . xxbos xxmaj not course . xxmaj only xxunk one day one xxunk with in one month we can finish . xxbos xxmaj sorry man , my xxunk ran dry last night and i ca n't pick up more until sunday</td>\n",
              "      <td>my xxunk on xxunk 2 b used 2 measure xxunk in next xxunk . xxmaj busy xxunk . :-) xxbos xxmaj studying . xxmaj but i.ll be free next weekend . xxbos xxmaj not course . xxmaj only xxunk one day one xxunk with in one month we can finish . xxbos xxmaj sorry man , my xxunk ran dry last night and i ca n't pick up more until sunday xxbos</td>\n",
              "    </tr>\n",
              "  </tbody>\n",
              "</table>"
            ],
            "text/plain": [
              "<IPython.core.display.HTML object>"
            ]
          },
          "metadata": {
            "tags": []
          }
        }
      ]
    },
    {
      "cell_type": "code",
      "metadata": {
        "id": "4e47ByOq7cht"
      },
      "source": [
        "learn_lm = language_model_learner(dls_lm, AWD_LSTM, metrics=[accuracy, Perplexity()],  wd=0.1).to_fp16()"
      ],
      "execution_count": 80,
      "outputs": []
    },
    {
      "cell_type": "code",
      "metadata": {
        "colab": {
          "base_uri": "https://localhost:8080/",
          "height": 80
        },
        "id": "x3o2PDne75ju",
        "outputId": "dee73e3f-e8fe-4421-9f62-7c44b218e6b0"
      },
      "source": [
        "learn_lm.fit_one_cycle(1, 1e-3)"
      ],
      "execution_count": 81,
      "outputs": [
        {
          "output_type": "display_data",
          "data": {
            "text/html": [
              "<table border=\"1\" class=\"dataframe\">\n",
              "  <thead>\n",
              "    <tr style=\"text-align: left;\">\n",
              "      <th>epoch</th>\n",
              "      <th>train_loss</th>\n",
              "      <th>valid_loss</th>\n",
              "      <th>accuracy</th>\n",
              "      <th>perplexity</th>\n",
              "      <th>time</th>\n",
              "    </tr>\n",
              "  </thead>\n",
              "  <tbody>\n",
              "    <tr>\n",
              "      <td>0</td>\n",
              "      <td>6.061187</td>\n",
              "      <td>5.717118</td>\n",
              "      <td>0.156456</td>\n",
              "      <td>304.027374</td>\n",
              "      <td>00:06</td>\n",
              "    </tr>\n",
              "  </tbody>\n",
              "</table>"
            ],
            "text/plain": [
              "<IPython.core.display.HTML object>"
            ]
          },
          "metadata": {
            "tags": []
          }
        }
      ]
    },
    {
      "cell_type": "code",
      "metadata": {
        "colab": {
          "base_uri": "https://localhost:8080/",
          "height": 363
        },
        "id": "_CzShkD88EHJ",
        "outputId": "e3fcf087-92f6-4fc5-df2a-d6939ddc0ed5"
      },
      "source": [
        "learn_lm.unfreeze()\n",
        "learn_lm.fit_one_cycle(10, 1e-3)"
      ],
      "execution_count": 82,
      "outputs": [
        {
          "output_type": "display_data",
          "data": {
            "text/html": [
              "<table border=\"1\" class=\"dataframe\">\n",
              "  <thead>\n",
              "    <tr style=\"text-align: left;\">\n",
              "      <th>epoch</th>\n",
              "      <th>train_loss</th>\n",
              "      <th>valid_loss</th>\n",
              "      <th>accuracy</th>\n",
              "      <th>perplexity</th>\n",
              "      <th>time</th>\n",
              "    </tr>\n",
              "  </thead>\n",
              "  <tbody>\n",
              "    <tr>\n",
              "      <td>0</td>\n",
              "      <td>5.488988</td>\n",
              "      <td>4.857678</td>\n",
              "      <td>0.199877</td>\n",
              "      <td>128.724945</td>\n",
              "      <td>00:06</td>\n",
              "    </tr>\n",
              "    <tr>\n",
              "      <td>1</td>\n",
              "      <td>5.125286</td>\n",
              "      <td>4.528504</td>\n",
              "      <td>0.226087</td>\n",
              "      <td>92.619888</td>\n",
              "      <td>00:06</td>\n",
              "    </tr>\n",
              "    <tr>\n",
              "      <td>2</td>\n",
              "      <td>4.858099</td>\n",
              "      <td>4.287972</td>\n",
              "      <td>0.244553</td>\n",
              "      <td>72.818642</td>\n",
              "      <td>00:06</td>\n",
              "    </tr>\n",
              "    <tr>\n",
              "      <td>3</td>\n",
              "      <td>4.643962</td>\n",
              "      <td>4.129861</td>\n",
              "      <td>0.260066</td>\n",
              "      <td>62.169273</td>\n",
              "      <td>00:06</td>\n",
              "    </tr>\n",
              "    <tr>\n",
              "      <td>4</td>\n",
              "      <td>4.428804</td>\n",
              "      <td>4.010485</td>\n",
              "      <td>0.271169</td>\n",
              "      <td>55.173634</td>\n",
              "      <td>00:06</td>\n",
              "    </tr>\n",
              "    <tr>\n",
              "      <td>5</td>\n",
              "      <td>4.238113</td>\n",
              "      <td>3.906535</td>\n",
              "      <td>0.287363</td>\n",
              "      <td>49.726357</td>\n",
              "      <td>00:06</td>\n",
              "    </tr>\n",
              "    <tr>\n",
              "      <td>6</td>\n",
              "      <td>4.078771</td>\n",
              "      <td>3.858526</td>\n",
              "      <td>0.293594</td>\n",
              "      <td>47.395416</td>\n",
              "      <td>00:06</td>\n",
              "    </tr>\n",
              "    <tr>\n",
              "      <td>7</td>\n",
              "      <td>3.954295</td>\n",
              "      <td>3.828236</td>\n",
              "      <td>0.297169</td>\n",
              "      <td>45.981373</td>\n",
              "      <td>00:06</td>\n",
              "    </tr>\n",
              "    <tr>\n",
              "      <td>8</td>\n",
              "      <td>3.845666</td>\n",
              "      <td>3.815830</td>\n",
              "      <td>0.299953</td>\n",
              "      <td>45.414455</td>\n",
              "      <td>00:06</td>\n",
              "    </tr>\n",
              "    <tr>\n",
              "      <td>9</td>\n",
              "      <td>3.780921</td>\n",
              "      <td>3.814644</td>\n",
              "      <td>0.299827</td>\n",
              "      <td>45.360611</td>\n",
              "      <td>00:06</td>\n",
              "    </tr>\n",
              "  </tbody>\n",
              "</table>"
            ],
            "text/plain": [
              "<IPython.core.display.HTML object>"
            ]
          },
          "metadata": {
            "tags": []
          }
        }
      ]
    },
    {
      "cell_type": "code",
      "metadata": {
        "id": "fKixqvzW_qQn"
      },
      "source": [
        "learn_lm.save_encoder('finetuned')"
      ],
      "execution_count": 83,
      "outputs": []
    },
    {
      "cell_type": "code",
      "metadata": {
        "colab": {
          "base_uri": "https://localhost:8080/",
          "height": 52
        },
        "id": "Kwt_HMqF8bXd",
        "outputId": "c99d959a-1f61-4346-ec79-7bab2c92aefa"
      },
      "source": [
        "TEXT = \"I'm gonna be home as soon as\"\n",
        "N_WORDS = 20\n",
        "N_SENTENCES = 2\n",
        "preds = [learn_lm.predict(TEXT, N_WORDS, temperature=0.75) \n",
        "         for _ in range(N_SENTENCES)]\n",
        "\n",
        "print(\"\\n\".join(preds))"
      ],
      "execution_count": 89,
      "outputs": [
        {
          "output_type": "display_data",
          "data": {
            "text/html": [
              ""
            ],
            "text/plain": [
              "<IPython.core.display.HTML object>"
            ]
          },
          "metadata": {
            "tags": []
          }
        },
        {
          "output_type": "display_data",
          "data": {
            "text/html": [
              ""
            ],
            "text/plain": [
              "<IPython.core.display.HTML object>"
            ]
          },
          "metadata": {
            "tags": []
          }
        },
        {
          "output_type": "stream",
          "text": [
            "I 'm gon na be home as soon as i get to new shopping . Do nt think of you an idiot . You 're not\n",
            "I 'm gon na be home as soon as i go pocketbabe.co.uk SMS AUCTION FROM TAKE ON to GET a FREE\n"
          ],
          "name": "stdout"
        }
      ]
    },
    {
      "cell_type": "code",
      "metadata": {
        "colab": {
          "base_uri": "https://localhost:8080/",
          "height": 72
        },
        "id": "cOeOfjCg93Hl",
        "outputId": "6f739c20-39aa-48ac-e486-9ea33fccc565"
      },
      "source": [
        "dls_clas = TextDataLoaders.from_df(df, valid_pct=0.2, text_vocab=dls_lm.vocab)"
      ],
      "execution_count": 90,
      "outputs": [
        {
          "output_type": "display_data",
          "data": {
            "text/html": [
              ""
            ],
            "text/plain": [
              "<IPython.core.display.HTML object>"
            ]
          },
          "metadata": {
            "tags": []
          }
        },
        {
          "output_type": "stream",
          "text": [
            "/usr/local/lib/python3.6/dist-packages/numpy/core/_asarray.py:83: VisibleDeprecationWarning: Creating an ndarray from ragged nested sequences (which is a list-or-tuple of lists-or-tuples-or ndarrays with different lengths or shapes) is deprecated. If you meant to do this, you must specify 'dtype=object' when creating the ndarray\n",
            "  return array(a, dtype, copy=False, order=order)\n"
          ],
          "name": "stderr"
        }
      ]
    },
    {
      "cell_type": "code",
      "metadata": {
        "id": "9MgVK7Y6-6JO"
      },
      "source": [
        "learn_clas = text_classifier_learner(dls_clas, AWD_LSTM, drop_mult=0.5, metrics=[accuracy, Recall(), Precision(), F1Score(),CohenKappa()])"
      ],
      "execution_count": 91,
      "outputs": []
    },
    {
      "cell_type": "code",
      "metadata": {
        "id": "s4yC7ZTa_251"
      },
      "source": [
        "learn_clas = learn_clas.load_encoder('finetuned')"
      ],
      "execution_count": 92,
      "outputs": []
    },
    {
      "cell_type": "code",
      "metadata": {
        "colab": {
          "base_uri": "https://localhost:8080/",
          "height": 80
        },
        "id": "85mdjSnm_7Ze",
        "outputId": "c4dcfc3d-a0fa-49a6-8678-ddb1877a3314"
      },
      "source": [
        "learn_clas.fit_one_cycle(1, 2e-2/4)"
      ],
      "execution_count": 93,
      "outputs": [
        {
          "output_type": "display_data",
          "data": {
            "text/html": [
              "<table border=\"1\" class=\"dataframe\">\n",
              "  <thead>\n",
              "    <tr style=\"text-align: left;\">\n",
              "      <th>epoch</th>\n",
              "      <th>train_loss</th>\n",
              "      <th>valid_loss</th>\n",
              "      <th>accuracy</th>\n",
              "      <th>recall_score</th>\n",
              "      <th>precision_score</th>\n",
              "      <th>f1_score</th>\n",
              "      <th>cohen_kappa_score</th>\n",
              "      <th>time</th>\n",
              "    </tr>\n",
              "  </thead>\n",
              "  <tbody>\n",
              "    <tr>\n",
              "      <td>0</td>\n",
              "      <td>0.410282</td>\n",
              "      <td>0.119671</td>\n",
              "      <td>0.974865</td>\n",
              "      <td>0.855072</td>\n",
              "      <td>0.936508</td>\n",
              "      <td>0.893939</td>\n",
              "      <td>0.879716</td>\n",
              "      <td>00:06</td>\n",
              "    </tr>\n",
              "  </tbody>\n",
              "</table>"
            ],
            "text/plain": [
              "<IPython.core.display.HTML object>"
            ]
          },
          "metadata": {
            "tags": []
          }
        }
      ]
    },
    {
      "cell_type": "code",
      "metadata": {
        "colab": {
          "base_uri": "https://localhost:8080/",
          "height": 80
        },
        "id": "U3LmWDBoAC7j",
        "outputId": "6cb190d7-88d8-4cd1-824f-fc9195adda59"
      },
      "source": [
        "learn_clas.freeze_to(-2)\n",
        "learn_clas.fit_one_cycle(1, slice(1e-2/(2.6**4),1e-2))"
      ],
      "execution_count": 94,
      "outputs": [
        {
          "output_type": "display_data",
          "data": {
            "text/html": [
              "<table border=\"1\" class=\"dataframe\">\n",
              "  <thead>\n",
              "    <tr style=\"text-align: left;\">\n",
              "      <th>epoch</th>\n",
              "      <th>train_loss</th>\n",
              "      <th>valid_loss</th>\n",
              "      <th>accuracy</th>\n",
              "      <th>recall_score</th>\n",
              "      <th>precision_score</th>\n",
              "      <th>f1_score</th>\n",
              "      <th>cohen_kappa_score</th>\n",
              "      <th>time</th>\n",
              "    </tr>\n",
              "  </thead>\n",
              "  <tbody>\n",
              "    <tr>\n",
              "      <td>0</td>\n",
              "      <td>0.178866</td>\n",
              "      <td>0.064000</td>\n",
              "      <td>0.979354</td>\n",
              "      <td>0.927536</td>\n",
              "      <td>0.907801</td>\n",
              "      <td>0.917563</td>\n",
              "      <td>0.905763</td>\n",
              "      <td>00:06</td>\n",
              "    </tr>\n",
              "  </tbody>\n",
              "</table>"
            ],
            "text/plain": [
              "<IPython.core.display.HTML object>"
            ]
          },
          "metadata": {
            "tags": []
          }
        }
      ]
    },
    {
      "cell_type": "code",
      "metadata": {
        "colab": {
          "base_uri": "https://localhost:8080/",
          "height": 80
        },
        "id": "OG3l8Dn3APKd",
        "outputId": "d14993dd-834b-41ad-a1b0-ef26ecd94e8b"
      },
      "source": [
        "learn_clas.freeze_to(-3)\n",
        "learn_clas.fit_one_cycle(1, slice(5e-3/(2.6**4),5e-3))"
      ],
      "execution_count": 95,
      "outputs": [
        {
          "output_type": "display_data",
          "data": {
            "text/html": [
              "<table border=\"1\" class=\"dataframe\">\n",
              "  <thead>\n",
              "    <tr style=\"text-align: left;\">\n",
              "      <th>epoch</th>\n",
              "      <th>train_loss</th>\n",
              "      <th>valid_loss</th>\n",
              "      <th>accuracy</th>\n",
              "      <th>recall_score</th>\n",
              "      <th>precision_score</th>\n",
              "      <th>f1_score</th>\n",
              "      <th>cohen_kappa_score</th>\n",
              "      <th>time</th>\n",
              "    </tr>\n",
              "  </thead>\n",
              "  <tbody>\n",
              "    <tr>\n",
              "      <td>0</td>\n",
              "      <td>0.083165</td>\n",
              "      <td>0.089709</td>\n",
              "      <td>0.977558</td>\n",
              "      <td>0.869565</td>\n",
              "      <td>0.944882</td>\n",
              "      <td>0.905660</td>\n",
              "      <td>0.892950</td>\n",
              "      <td>00:07</td>\n",
              "    </tr>\n",
              "  </tbody>\n",
              "</table>"
            ],
            "text/plain": [
              "<IPython.core.display.HTML object>"
            ]
          },
          "metadata": {
            "tags": []
          }
        }
      ]
    },
    {
      "cell_type": "code",
      "metadata": {
        "colab": {
          "base_uri": "https://localhost:8080/",
          "height": 112
        },
        "id": "-d26tbvwAcPq",
        "outputId": "d76ee451-d163-4bcf-9ef7-150d6ae7a202"
      },
      "source": [
        "learn_clas.unfreeze()\n",
        "learn_clas.fit_one_cycle(2, slice(1e-3/(2.6**4),1e-3))"
      ],
      "execution_count": 96,
      "outputs": [
        {
          "output_type": "display_data",
          "data": {
            "text/html": [
              "<table border=\"1\" class=\"dataframe\">\n",
              "  <thead>\n",
              "    <tr style=\"text-align: left;\">\n",
              "      <th>epoch</th>\n",
              "      <th>train_loss</th>\n",
              "      <th>valid_loss</th>\n",
              "      <th>accuracy</th>\n",
              "      <th>recall_score</th>\n",
              "      <th>precision_score</th>\n",
              "      <th>f1_score</th>\n",
              "      <th>cohen_kappa_score</th>\n",
              "      <th>time</th>\n",
              "    </tr>\n",
              "  </thead>\n",
              "  <tbody>\n",
              "    <tr>\n",
              "      <td>0</td>\n",
              "      <td>0.039304</td>\n",
              "      <td>0.104557</td>\n",
              "      <td>0.976661</td>\n",
              "      <td>0.826087</td>\n",
              "      <td>0.982759</td>\n",
              "      <td>0.897638</td>\n",
              "      <td>0.884578</td>\n",
              "      <td>00:08</td>\n",
              "    </tr>\n",
              "    <tr>\n",
              "      <td>1</td>\n",
              "      <td>0.037364</td>\n",
              "      <td>0.098509</td>\n",
              "      <td>0.979354</td>\n",
              "      <td>0.847826</td>\n",
              "      <td>0.983193</td>\n",
              "      <td>0.910506</td>\n",
              "      <td>0.898909</td>\n",
              "      <td>00:08</td>\n",
              "    </tr>\n",
              "  </tbody>\n",
              "</table>"
            ],
            "text/plain": [
              "<IPython.core.display.HTML object>"
            ]
          },
          "metadata": {
            "tags": []
          }
        }
      ]
    },
    {
      "cell_type": "markdown",
      "metadata": {
        "id": "2WpHOsHXAkSI"
      },
      "source": [
        "# Second Improvement: augment spam with translation"
      ]
    },
    {
      "cell_type": "code",
      "metadata": {
        "colab": {
          "base_uri": "https://localhost:8080/"
        },
        "id": "v4C8OzOdNyx1",
        "outputId": "18e2efed-8508-446f-8ca7-de3963823fc1"
      },
      "source": [
        "pip install google_trans_new"
      ],
      "execution_count": 108,
      "outputs": [
        {
          "output_type": "stream",
          "text": [
            "Collecting google_trans_new\n",
            "  Downloading https://files.pythonhosted.org/packages/f9/7b/9f136106dc5824dc98185c97991d3cd9b53e70a197154dd49f7b899128f6/google_trans_new-1.1.9-py3-none-any.whl\n",
            "Installing collected packages: google-trans-new\n",
            "Successfully installed google-trans-new-1.1.9\n"
          ],
          "name": "stdout"
        }
      ]
    },
    {
      "cell_type": "code",
      "metadata": {
        "id": "bIBOed4maeJ0"
      },
      "source": [
        "from textblob import TextBlob"
      ],
      "execution_count": 146,
      "outputs": []
    },
    {
      "cell_type": "code",
      "metadata": {
        "id": "EsP345LWdq9m"
      },
      "source": [
        "blob = TextBlob('comment ca va ?')\n",
        "result = blob.translate(to='en')"
      ],
      "execution_count": 148,
      "outputs": []
    },
    {
      "cell_type": "code",
      "metadata": {
        "colab": {
          "base_uri": "https://localhost:8080/"
        },
        "id": "5uqhcnO-ah5d",
        "outputId": "63b3590a-9627-46b2-c661-079c77b1074c"
      },
      "source": [
        "type(result)"
      ],
      "execution_count": 149,
      "outputs": [
        {
          "output_type": "execute_result",
          "data": {
            "text/plain": [
              "textblob.blob.TextBlob"
            ]
          },
          "metadata": {
            "tags": []
          },
          "execution_count": 149
        }
      ]
    },
    {
      "cell_type": "code",
      "metadata": {
        "colab": {
          "base_uri": "https://localhost:8080/",
          "height": 36
        },
        "id": "A3Y90YiLadhq",
        "outputId": "9cf5faab-129f-40fe-a934-2779962e6662"
      },
      "source": [
        "result.string"
      ],
      "execution_count": 150,
      "outputs": [
        {
          "output_type": "execute_result",
          "data": {
            "application/vnd.google.colaboratory.intrinsic+json": {
              "type": "string"
            },
            "text/plain": [
              "'How is it going ?'"
            ]
          },
          "metadata": {
            "tags": []
          },
          "execution_count": 150
        }
      ]
    },
    {
      "cell_type": "code",
      "metadata": {
        "id": "XPat9y_kJDo9"
      },
      "source": [
        "from google_trans_new import google_translator\n",
        "translator = google_translator()\n",
        "def German_translation(x):           \n",
        "  german_translation = translator.translate(x, lang_src='en', lang_tgt='de')        \n",
        "  return german_translation\n",
        "\n",
        "def English_blob_translation(x):      \n",
        "  blob= TextBlob(x)   \n",
        "  english_translation = blob.translate(to='en')     \n",
        "  return english_translation.string\n",
        "\n",
        "def English_gtn_translation(x):       \n",
        "    english_translation = translator.translate(x, lang_src='de', lang_tgt='en')        \n",
        "    return english_translation.text"
      ],
      "execution_count": 182,
      "outputs": []
    },
    {
      "cell_type": "code",
      "metadata": {
        "colab": {
          "base_uri": "https://localhost:8080/",
          "height": 36
        },
        "id": "gv4Cn20MLY1C",
        "outputId": "db10f61c-f662-4e8a-deea-d2e76caa197b"
      },
      "source": [
        "German_translation('the rain in Spain stays mainly on the plain')"
      ],
      "execution_count": 114,
      "outputs": [
        {
          "output_type": "execute_result",
          "data": {
            "application/vnd.google.colaboratory.intrinsic+json": {
              "type": "string"
            },
            "text/plain": [
              "'Der Regen in Spanien bleibt hauptsächlich in der Ebene '"
            ]
          },
          "metadata": {
            "tags": []
          },
          "execution_count": 114
        }
      ]
    },
    {
      "cell_type": "code",
      "metadata": {
        "colab": {
          "base_uri": "https://localhost:8080/",
          "height": 36
        },
        "id": "ExPvB34kLs_u",
        "outputId": "796ba609-1d04-4efc-c294-1d27fbbd9640"
      },
      "source": [
        "English_translation('Der Regen in Spanien bleibt hauptsächlich in der Ebene')"
      ],
      "execution_count": 157,
      "outputs": [
        {
          "output_type": "execute_result",
          "data": {
            "application/vnd.google.colaboratory.intrinsic+json": {
              "type": "string"
            },
            "text/plain": [
              "'The rain in Spain mainly stays in the plain'"
            ]
          },
          "metadata": {
            "tags": []
          },
          "execution_count": 157
        }
      ]
    },
    {
      "cell_type": "code",
      "metadata": {
        "colab": {
          "base_uri": "https://localhost:8080/",
          "height": 423
        },
        "id": "OkSujTX5Jpy1",
        "outputId": "d672d379-5b1f-485c-aa19-47370d4dc6ed"
      },
      "source": [
        "trans_df = df[df['hamorspam'] == 'spam']\n",
        "trans_df"
      ],
      "execution_count": 102,
      "outputs": [
        {
          "output_type": "execute_result",
          "data": {
            "text/html": [
              "<div>\n",
              "<style scoped>\n",
              "    .dataframe tbody tr th:only-of-type {\n",
              "        vertical-align: middle;\n",
              "    }\n",
              "\n",
              "    .dataframe tbody tr th {\n",
              "        vertical-align: top;\n",
              "    }\n",
              "\n",
              "    .dataframe thead th {\n",
              "        text-align: right;\n",
              "    }\n",
              "</style>\n",
              "<table border=\"1\" class=\"dataframe\">\n",
              "  <thead>\n",
              "    <tr style=\"text-align: right;\">\n",
              "      <th></th>\n",
              "      <th>sms</th>\n",
              "      <th>hamorspam</th>\n",
              "    </tr>\n",
              "  </thead>\n",
              "  <tbody>\n",
              "    <tr>\n",
              "      <th>2</th>\n",
              "      <td>Free entry in 2 a wkly comp to win FA Cup final tkts 21st May 2005. Text FA to 87121 to receive entry question(std txt rate)T&amp;C's apply 08452810075over18's</td>\n",
              "      <td>spam</td>\n",
              "    </tr>\n",
              "    <tr>\n",
              "      <th>5</th>\n",
              "      <td>FreeMsg Hey there darling it's been 3 week's now and no word back! I'd like some fun you up for it still? Tb ok! XxX std chgs to send, å£1.50 to rcv</td>\n",
              "      <td>spam</td>\n",
              "    </tr>\n",
              "    <tr>\n",
              "      <th>8</th>\n",
              "      <td>WINNER!! As a valued network customer you have been selected to receivea å£900 prize reward! To claim call 09061701461. Claim code KL341. Valid 12 hours only.</td>\n",
              "      <td>spam</td>\n",
              "    </tr>\n",
              "    <tr>\n",
              "      <th>9</th>\n",
              "      <td>Had your mobile 11 months or more? U R entitled to Update to the latest colour mobiles with camera for Free! Call The Mobile Update Co FREE on 08002986030</td>\n",
              "      <td>spam</td>\n",
              "    </tr>\n",
              "    <tr>\n",
              "      <th>11</th>\n",
              "      <td>SIX chances to win CASH! From 100 to 20,000 pounds txt&gt; CSH11 and send to 87575. Cost 150p/day, 6days, 16+ TsandCs apply Reply HL 4 info</td>\n",
              "      <td>spam</td>\n",
              "    </tr>\n",
              "    <tr>\n",
              "      <th>...</th>\n",
              "      <td>...</td>\n",
              "      <td>...</td>\n",
              "    </tr>\n",
              "    <tr>\n",
              "      <th>5537</th>\n",
              "      <td>Want explicit SEX in 30 secs? Ring 02073162414 now! Costs 20p/min Gsex POBOX 2667 WC1N 3XX</td>\n",
              "      <td>spam</td>\n",
              "    </tr>\n",
              "    <tr>\n",
              "      <th>5540</th>\n",
              "      <td>ASKED 3MOBILE IF 0870 CHATLINES INCLU IN FREE MINS. INDIA CUST SERVs SED YES. L8ER GOT MEGA BILL. 3 DONT GIV A SHIT. BAILIFF DUE IN DAYS. I O å£250 3 WANT å£800</td>\n",
              "      <td>spam</td>\n",
              "    </tr>\n",
              "    <tr>\n",
              "      <th>5547</th>\n",
              "      <td>Had your contract mobile 11 Mnths? Latest Motorola, Nokia etc. all FREE! Double Mins &amp; Text on Orange tariffs. TEXT YES for callback, no to remove from records.</td>\n",
              "      <td>spam</td>\n",
              "    </tr>\n",
              "    <tr>\n",
              "      <th>5566</th>\n",
              "      <td>REMINDER FROM O2: To get 2.50 pounds free call credit and details of great offers pls reply 2 this text with your valid name, house no and postcode</td>\n",
              "      <td>spam</td>\n",
              "    </tr>\n",
              "    <tr>\n",
              "      <th>5567</th>\n",
              "      <td>This is the 2nd time we have tried 2 contact u. U have won the å£750 Pound prize. 2 claim is easy, call 087187272008 NOW1! Only 10p per minute. BT-national-rate.</td>\n",
              "      <td>spam</td>\n",
              "    </tr>\n",
              "  </tbody>\n",
              "</table>\n",
              "<p>747 rows × 2 columns</p>\n",
              "</div>"
            ],
            "text/plain": [
              "                                                                                                                                                                    sms  \\\n",
              "2           Free entry in 2 a wkly comp to win FA Cup final tkts 21st May 2005. Text FA to 87121 to receive entry question(std txt rate)T&C's apply 08452810075over18's   \n",
              "5                  FreeMsg Hey there darling it's been 3 week's now and no word back! I'd like some fun you up for it still? Tb ok! XxX std chgs to send, å£1.50 to rcv   \n",
              "8        WINNER!! As a valued network customer you have been selected to receivea å£900 prize reward! To claim call 09061701461. Claim code KL341. Valid 12 hours only.   \n",
              "9            Had your mobile 11 months or more? U R entitled to Update to the latest colour mobiles with camera for Free! Call The Mobile Update Co FREE on 08002986030   \n",
              "11                             SIX chances to win CASH! From 100 to 20,000 pounds txt> CSH11 and send to 87575. Cost 150p/day, 6days, 16+ TsandCs apply Reply HL 4 info   \n",
              "...                                                                                                                                                                 ...   \n",
              "5537                                                                         Want explicit SEX in 30 secs? Ring 02073162414 now! Costs 20p/min Gsex POBOX 2667 WC1N 3XX   \n",
              "5540   ASKED 3MOBILE IF 0870 CHATLINES INCLU IN FREE MINS. INDIA CUST SERVs SED YES. L8ER GOT MEGA BILL. 3 DONT GIV A SHIT. BAILIFF DUE IN DAYS. I O å£250 3 WANT å£800   \n",
              "5547   Had your contract mobile 11 Mnths? Latest Motorola, Nokia etc. all FREE! Double Mins & Text on Orange tariffs. TEXT YES for callback, no to remove from records.   \n",
              "5566                REMINDER FROM O2: To get 2.50 pounds free call credit and details of great offers pls reply 2 this text with your valid name, house no and postcode   \n",
              "5567  This is the 2nd time we have tried 2 contact u. U have won the å£750 Pound prize. 2 claim is easy, call 087187272008 NOW1! Only 10p per minute. BT-national-rate.   \n",
              "\n",
              "     hamorspam  \n",
              "2         spam  \n",
              "5         spam  \n",
              "8         spam  \n",
              "9         spam  \n",
              "11        spam  \n",
              "...        ...  \n",
              "5537      spam  \n",
              "5540      spam  \n",
              "5547      spam  \n",
              "5566      spam  \n",
              "5567      spam  \n",
              "\n",
              "[747 rows x 2 columns]"
            ]
          },
          "metadata": {
            "tags": []
          },
          "execution_count": 102
        }
      ]
    },
    {
      "cell_type": "code",
      "metadata": {
        "colab": {
          "base_uri": "https://localhost:8080/"
        },
        "id": "w064m_nuLK-v",
        "outputId": "a96360d5-57cc-45b6-d4f1-2d95839a7e96"
      },
      "source": [
        "trans_df['sms'] = trans_df['sms'].apply(German_translation)"
      ],
      "execution_count": 116,
      "outputs": [
        {
          "output_type": "stream",
          "text": [
            "/usr/local/lib/python3.6/dist-packages/ipykernel_launcher.py:1: SettingWithCopyWarning: \n",
            "A value is trying to be set on a copy of a slice from a DataFrame.\n",
            "Try using .loc[row_indexer,col_indexer] = value instead\n",
            "\n",
            "See the caveats in the documentation: https://pandas.pydata.org/pandas-docs/stable/user_guide/indexing.html#returning-a-view-versus-a-copy\n",
            "  \"\"\"Entry point for launching an IPython kernel.\n"
          ],
          "name": "stderr"
        }
      ]
    },
    {
      "cell_type": "code",
      "metadata": {
        "colab": {
          "base_uri": "https://localhost:8080/",
          "height": 143
        },
        "id": "W8eVnvcTOuRP",
        "outputId": "8c157a84-8379-4ff2-f8cc-fa697874dba8"
      },
      "source": [
        "trans_df.head(3)"
      ],
      "execution_count": 118,
      "outputs": [
        {
          "output_type": "execute_result",
          "data": {
            "text/html": [
              "<div>\n",
              "<style scoped>\n",
              "    .dataframe tbody tr th:only-of-type {\n",
              "        vertical-align: middle;\n",
              "    }\n",
              "\n",
              "    .dataframe tbody tr th {\n",
              "        vertical-align: top;\n",
              "    }\n",
              "\n",
              "    .dataframe thead th {\n",
              "        text-align: right;\n",
              "    }\n",
              "</style>\n",
              "<table border=\"1\" class=\"dataframe\">\n",
              "  <thead>\n",
              "    <tr style=\"text-align: right;\">\n",
              "      <th></th>\n",
              "      <th>sms</th>\n",
              "      <th>hamorspam</th>\n",
              "    </tr>\n",
              "  </thead>\n",
              "  <tbody>\n",
              "    <tr>\n",
              "      <th>2</th>\n",
              "      <td>Freier Eintritt in 2 Wochen, um das FA Cup-Finale am 21. Mai 2005 zu gewinnen. Schreiben Sie FA an 87121, um eine Frage zur Teilnahme zu erhalten (Standard-Textrate). Die AGB gelten für 08452810075 über 18 Jahre</td>\n",
              "      <td>spam</td>\n",
              "    </tr>\n",
              "    <tr>\n",
              "      <th>5</th>\n",
              "      <td>FreeMsg Hey Liebling, es ist jetzt 3 Wochen her und kein Wort zurück! Ich hätte gerne noch Spaß daran? Tb ok! XxX std chgs zu senden, å £ 1.50 an rcv</td>\n",
              "      <td>spam</td>\n",
              "    </tr>\n",
              "    <tr>\n",
              "      <th>8</th>\n",
              "      <td>GEWINNER!! Als geschätzter Netzwerkkunde wurden Sie ausgewählt, um eine Preisprämie von £ 900 zu erhalten! Um einen Anspruch geltend zu machen, rufen Sie 09061701461 an. Anspruchscode KL341. Nur 12 Stunden gültig.</td>\n",
              "      <td>spam</td>\n",
              "    </tr>\n",
              "  </tbody>\n",
              "</table>\n",
              "</div>"
            ],
            "text/plain": [
              "                                                                                                                                                                                                                      sms  \\\n",
              "2    Freier Eintritt in 2 Wochen, um das FA Cup-Finale am 21. Mai 2005 zu gewinnen. Schreiben Sie FA an 87121, um eine Frage zur Teilnahme zu erhalten (Standard-Textrate). Die AGB gelten für 08452810075 über 18 Jahre    \n",
              "5                                                                  FreeMsg Hey Liebling, es ist jetzt 3 Wochen her und kein Wort zurück! Ich hätte gerne noch Spaß daran? Tb ok! XxX std chgs zu senden, å £ 1.50 an rcv    \n",
              "8  GEWINNER!! Als geschätzter Netzwerkkunde wurden Sie ausgewählt, um eine Preisprämie von £ 900 zu erhalten! Um einen Anspruch geltend zu machen, rufen Sie 09061701461 an. Anspruchscode KL341. Nur 12 Stunden gültig.    \n",
              "\n",
              "  hamorspam  \n",
              "2      spam  \n",
              "5      spam  \n",
              "8      spam  "
            ]
          },
          "metadata": {
            "tags": []
          },
          "execution_count": 118
        }
      ]
    },
    {
      "cell_type": "code",
      "metadata": {
        "id": "0HVGaqEaQf-Z"
      },
      "source": [
        "trans_func ={'blob':English_blob_translation, 'gtn': English_gtn_translation }\n",
        "def incr_trans(ind, func_short):\n",
        "  func= trans_func.get(func_short)\n",
        "  for index in range(ind, len(trans_df)):\n",
        "    try:\n",
        "      trans_df.loc[index,'sms'] = func(trans_df.loc[index,'sms'])\n",
        "    except:\n",
        "      print(\"index= \",index)\n",
        "      break"
      ],
      "execution_count": 186,
      "outputs": []
    },
    {
      "cell_type": "code",
      "metadata": {
        "colab": {
          "base_uri": "https://localhost:8080/"
        },
        "id": "C5B50OCoteBx",
        "outputId": "838a9d53-1f03-42a3-9af1-1bd3c394e91b"
      },
      "source": [
        "incr_trans(60, 'blob')"
      ],
      "execution_count": 216,
      "outputs": [
        {
          "output_type": "stream",
          "text": [
            "index=  60\n"
          ],
          "name": "stdout"
        }
      ]
    },
    {
      "cell_type": "code",
      "metadata": {
        "colab": {
          "base_uri": "https://localhost:8080/"
        },
        "id": "AynGXiYRQ74X",
        "outputId": "7477dadc-8270-4130-96a3-06851e823933"
      },
      "source": [
        "trans_df.iloc[59, 0:2]"
      ],
      "execution_count": 190,
      "outputs": [
        {
          "output_type": "execute_result",
          "data": {
            "text/plain": [
              "sms          100 dating service cal; l 09064012103 box334sk38ch \n",
              "hamorspam                                                   spam\n",
              "Name: 414, dtype: object"
            ]
          },
          "metadata": {
            "tags": []
          },
          "execution_count": 190
        }
      ]
    },
    {
      "cell_type": "markdown",
      "metadata": {
        "id": "NLLFB99kxQxf"
      },
      "source": [
        "# Third Improvement: class weights"
      ]
    },
    {
      "cell_type": "code",
      "metadata": {
        "colab": {
          "base_uri": "https://localhost:8080/"
        },
        "id": "xiLENWzdxcG-",
        "outputId": "4756b906-d016-4890-9670-b18e06c18098"
      },
      "source": [
        "spam_prop = len(trans_df)/len(df)\n",
        "ham_prop = 1 - spam_prop\n",
        "norm_fact = 2* spam_prop * ham_prop\n",
        "class_weights  = list((ham_prop/norm_fact, spam_prop/norm_fact))\n",
        "class_weights = torch.FloatTensor(class_weights)\n",
        "class_weights"
      ],
      "execution_count": 201,
      "outputs": [
        {
          "output_type": "execute_result",
          "data": {
            "text/plain": [
              "tensor([3.7296, 0.5774])"
            ]
          },
          "metadata": {
            "tags": []
          },
          "execution_count": 201
        }
      ]
    },
    {
      "cell_type": "code",
      "metadata": {
        "colab": {
          "base_uri": "https://localhost:8080/"
        },
        "id": "JNHmmsqz7HNT",
        "outputId": "bf4cd0a1-c461-4e64-f3e9-93d99db3a58a"
      },
      "source": [
        "learn_clas.loss_func"
      ],
      "execution_count": 198,
      "outputs": [
        {
          "output_type": "execute_result",
          "data": {
            "text/plain": [
              "FlattenedLoss of CrossEntropyLoss()"
            ]
          },
          "metadata": {
            "tags": []
          },
          "execution_count": 198
        }
      ]
    },
    {
      "cell_type": "code",
      "metadata": {
        "id": "Gd8ZopiBBayQ"
      },
      "source": [
        ""
      ],
      "execution_count": null,
      "outputs": []
    },
    {
      "cell_type": "code",
      "metadata": {
        "id": "UyybWBBo_WXP"
      },
      "source": [
        "learn_bal = text_classifier_learner(dls_clas, AWD_LSTM, drop_mult=0.5, metrics=[accuracy, Recall(), Precision(), F1Score(),CohenKappa()])"
      ],
      "execution_count": 202,
      "outputs": []
    },
    {
      "cell_type": "code",
      "metadata": {
        "id": "9bFGUann_ut2"
      },
      "source": [
        "learn_bal.loss_func = nn.CrossEntropyLoss(weight=class_weights.cuda())"
      ],
      "execution_count": 205,
      "outputs": []
    },
    {
      "cell_type": "code",
      "metadata": {
        "colab": {
          "base_uri": "https://localhost:8080/"
        },
        "id": "a0eZ0KAcCU-3",
        "outputId": "f4bd257a-6f50-4df3-c0a5-7bc10d13a099"
      },
      "source": [
        "learn_bal.loss_func"
      ],
      "execution_count": 206,
      "outputs": [
        {
          "output_type": "execute_result",
          "data": {
            "text/plain": [
              "CrossEntropyLoss()"
            ]
          },
          "metadata": {
            "tags": []
          },
          "execution_count": 206
        }
      ]
    },
    {
      "cell_type": "code",
      "metadata": {
        "id": "gTUcZc8uCZdT"
      },
      "source": [
        "learn_bal = learn_clas.load_encoder('finetuned')"
      ],
      "execution_count": 209,
      "outputs": []
    },
    {
      "cell_type": "code",
      "metadata": {
        "colab": {
          "base_uri": "https://localhost:8080/",
          "height": 80
        },
        "id": "nl_Iug4WEknA",
        "outputId": "70f0d884-dfb9-44c8-b112-460340282a43"
      },
      "source": [
        "learn_bal.fit_one_cycle(1, 2e-2/4)"
      ],
      "execution_count": 210,
      "outputs": [
        {
          "output_type": "display_data",
          "data": {
            "text/html": [
              "<table border=\"1\" class=\"dataframe\">\n",
              "  <thead>\n",
              "    <tr style=\"text-align: left;\">\n",
              "      <th>epoch</th>\n",
              "      <th>train_loss</th>\n",
              "      <th>valid_loss</th>\n",
              "      <th>accuracy</th>\n",
              "      <th>recall_score</th>\n",
              "      <th>precision_score</th>\n",
              "      <th>f1_score</th>\n",
              "      <th>cohen_kappa_score</th>\n",
              "      <th>time</th>\n",
              "    </tr>\n",
              "  </thead>\n",
              "  <tbody>\n",
              "    <tr>\n",
              "      <td>0</td>\n",
              "      <td>0.072461</td>\n",
              "      <td>0.099043</td>\n",
              "      <td>0.980251</td>\n",
              "      <td>0.869565</td>\n",
              "      <td>0.967742</td>\n",
              "      <td>0.916031</td>\n",
              "      <td>0.904876</td>\n",
              "      <td>00:06</td>\n",
              "    </tr>\n",
              "  </tbody>\n",
              "</table>"
            ],
            "text/plain": [
              "<IPython.core.display.HTML object>"
            ]
          },
          "metadata": {
            "tags": []
          }
        }
      ]
    },
    {
      "cell_type": "code",
      "metadata": {
        "colab": {
          "base_uri": "https://localhost:8080/",
          "height": 80
        },
        "id": "9Y0D2YKXEoVR",
        "outputId": "2fe673e9-2b73-462f-d0e5-cd2cf1087f3f"
      },
      "source": [
        "learn_bal.freeze_to(-2)\n",
        "learn_bal.fit_one_cycle(1, slice(1e-2/(2.6**4),1e-2))"
      ],
      "execution_count": 211,
      "outputs": [
        {
          "output_type": "display_data",
          "data": {
            "text/html": [
              "<table border=\"1\" class=\"dataframe\">\n",
              "  <thead>\n",
              "    <tr style=\"text-align: left;\">\n",
              "      <th>epoch</th>\n",
              "      <th>train_loss</th>\n",
              "      <th>valid_loss</th>\n",
              "      <th>accuracy</th>\n",
              "      <th>recall_score</th>\n",
              "      <th>precision_score</th>\n",
              "      <th>f1_score</th>\n",
              "      <th>cohen_kappa_score</th>\n",
              "      <th>time</th>\n",
              "    </tr>\n",
              "  </thead>\n",
              "  <tbody>\n",
              "    <tr>\n",
              "      <td>0</td>\n",
              "      <td>0.099214</td>\n",
              "      <td>0.209097</td>\n",
              "      <td>0.975763</td>\n",
              "      <td>0.818841</td>\n",
              "      <td>0.982609</td>\n",
              "      <td>0.893281</td>\n",
              "      <td>0.879737</td>\n",
              "      <td>00:07</td>\n",
              "    </tr>\n",
              "  </tbody>\n",
              "</table>"
            ],
            "text/plain": [
              "<IPython.core.display.HTML object>"
            ]
          },
          "metadata": {
            "tags": []
          }
        }
      ]
    },
    {
      "cell_type": "code",
      "metadata": {
        "colab": {
          "base_uri": "https://localhost:8080/",
          "height": 80
        },
        "id": "JSrrzHmpE8Bg",
        "outputId": "b2d2efd3-fd56-4490-9425-7691d0b7474c"
      },
      "source": [
        "learn_bal.freeze_to(-3)\n",
        "learn_bal.fit_one_cycle(1, slice(5e-3/(2.6**4),5e-3))"
      ],
      "execution_count": 212,
      "outputs": [
        {
          "output_type": "display_data",
          "data": {
            "text/html": [
              "<table border=\"1\" class=\"dataframe\">\n",
              "  <thead>\n",
              "    <tr style=\"text-align: left;\">\n",
              "      <th>epoch</th>\n",
              "      <th>train_loss</th>\n",
              "      <th>valid_loss</th>\n",
              "      <th>accuracy</th>\n",
              "      <th>recall_score</th>\n",
              "      <th>precision_score</th>\n",
              "      <th>f1_score</th>\n",
              "      <th>cohen_kappa_score</th>\n",
              "      <th>time</th>\n",
              "    </tr>\n",
              "  </thead>\n",
              "  <tbody>\n",
              "    <tr>\n",
              "      <td>0</td>\n",
              "      <td>0.049100</td>\n",
              "      <td>0.155723</td>\n",
              "      <td>0.982047</td>\n",
              "      <td>0.862319</td>\n",
              "      <td>0.991667</td>\n",
              "      <td>0.922481</td>\n",
              "      <td>0.912384</td>\n",
              "      <td>00:07</td>\n",
              "    </tr>\n",
              "  </tbody>\n",
              "</table>"
            ],
            "text/plain": [
              "<IPython.core.display.HTML object>"
            ]
          },
          "metadata": {
            "tags": []
          }
        }
      ]
    },
    {
      "cell_type": "code",
      "metadata": {
        "colab": {
          "base_uri": "https://localhost:8080/",
          "height": 112
        },
        "id": "Z2zuDe0HFGG3",
        "outputId": "3671d668-5e36-4c15-97b8-9b0506f6759e"
      },
      "source": [
        "learn_bal.unfreeze()\n",
        "learn_bal.fit_one_cycle(2, slice(1e-3/(2.6**4),1e-3))"
      ],
      "execution_count": 213,
      "outputs": [
        {
          "output_type": "display_data",
          "data": {
            "text/html": [
              "<table border=\"1\" class=\"dataframe\">\n",
              "  <thead>\n",
              "    <tr style=\"text-align: left;\">\n",
              "      <th>epoch</th>\n",
              "      <th>train_loss</th>\n",
              "      <th>valid_loss</th>\n",
              "      <th>accuracy</th>\n",
              "      <th>recall_score</th>\n",
              "      <th>precision_score</th>\n",
              "      <th>f1_score</th>\n",
              "      <th>cohen_kappa_score</th>\n",
              "      <th>time</th>\n",
              "    </tr>\n",
              "  </thead>\n",
              "  <tbody>\n",
              "    <tr>\n",
              "      <td>0</td>\n",
              "      <td>0.031807</td>\n",
              "      <td>0.164823</td>\n",
              "      <td>0.982047</td>\n",
              "      <td>0.862319</td>\n",
              "      <td>0.991667</td>\n",
              "      <td>0.922481</td>\n",
              "      <td>0.912384</td>\n",
              "      <td>00:08</td>\n",
              "    </tr>\n",
              "    <tr>\n",
              "      <td>1</td>\n",
              "      <td>0.020429</td>\n",
              "      <td>0.130442</td>\n",
              "      <td>0.983842</td>\n",
              "      <td>0.876812</td>\n",
              "      <td>0.991803</td>\n",
              "      <td>0.930769</td>\n",
              "      <td>0.921662</td>\n",
              "      <td>00:08</td>\n",
              "    </tr>\n",
              "  </tbody>\n",
              "</table>"
            ],
            "text/plain": [
              "<IPython.core.display.HTML object>"
            ]
          },
          "metadata": {
            "tags": []
          }
        }
      ]
    },
    {
      "cell_type": "code",
      "metadata": {
        "colab": {
          "base_uri": "https://localhost:8080/",
          "height": 743
        },
        "id": "LSz--XJyFOKr",
        "outputId": "77ca7e24-0035-4d33-9b51-1c17b9fd2b46"
      },
      "source": [
        "conf = ClassificationInterpretation.from_learner(learn_bal)\n",
        "conf.plot_confusion_matrix(figsize=(12,12), dpi=60)"
      ],
      "execution_count": 214,
      "outputs": [
        {
          "output_type": "display_data",
          "data": {
            "text/html": [
              ""
            ],
            "text/plain": [
              "<IPython.core.display.HTML object>"
            ]
          },
          "metadata": {
            "tags": []
          }
        },
        {
          "output_type": "display_data",
          "data": {
            "image/png": "[encoded data removed]",
            "text/plain": [
              "<Figure size 720x720 with 1 Axes>"
            ]
          },
          "metadata": {
            "tags": [],
            "needs_background": "light"
          }
        }
      ]
    },
    {
      "cell_type": "code",
      "metadata": {
        "id": "5-VbXIrXHf-W"
      },
      "source": [
        ""
      ],
      "execution_count": null,
      "outputs": []
    }
  ]
}